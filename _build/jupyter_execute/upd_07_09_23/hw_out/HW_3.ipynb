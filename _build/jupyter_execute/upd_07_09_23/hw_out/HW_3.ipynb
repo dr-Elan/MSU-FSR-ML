{
 "cells": [
  {
   "cell_type": "markdown",
   "id": "faba3743",
   "metadata": {},
   "source": [
    "# HW_3 DECISION TRESS"
   ]
  },
  {
   "cell_type": "code",
   "execution_count": 1,
   "id": "2a5cc838",
   "metadata": {},
   "outputs": [],
   "source": [
    "import pandas as pd\n",
    "import numpy as np\n",
    "import seaborn as sns\n",
    " \n",
    "from matplotlib import pyplot as plt\n",
    "from scipy import stats\n",
    " \n",
    "from sklearn.linear_model import LinearRegression\n",
    "from sklearn.model_selection import train_test_split\n",
    "from sklearn.datasets import fetch_california_housing\n",
    "from sklearn.tree import DecisionTreeClassifier, plot_tree\n",
    "import pandas as pd\n",
    "import matplotlib.pyplot as plt"
   ]
  },
  {
   "cell_type": "code",
   "execution_count": 2,
   "id": "a33188a4",
   "metadata": {},
   "outputs": [],
   "source": [
    "california_housing = fetch_california_housing(as_frame=True)"
   ]
  },
  {
   "cell_type": "markdown",
   "id": "35d87ccc",
   "metadata": {},
   "source": [
    "### 1. Получите данные и загрузите их в рабочую среду."
   ]
  },
  {
   "cell_type": "code",
   "execution_count": 3,
   "id": "d4b2b533",
   "metadata": {},
   "outputs": [
    {
     "data": {
      "text/html": [
       "<div>\n",
       "<style scoped>\n",
       "    .dataframe tbody tr th:only-of-type {\n",
       "        vertical-align: middle;\n",
       "    }\n",
       "\n",
       "    .dataframe tbody tr th {\n",
       "        vertical-align: top;\n",
       "    }\n",
       "\n",
       "    .dataframe thead th {\n",
       "        text-align: right;\n",
       "    }\n",
       "</style>\n",
       "<table border=\"1\" class=\"dataframe\">\n",
       "  <thead>\n",
       "    <tr style=\"text-align: right;\">\n",
       "      <th></th>\n",
       "      <th>MedInc</th>\n",
       "      <th>HouseAge</th>\n",
       "      <th>AveRooms</th>\n",
       "      <th>AveBedrms</th>\n",
       "      <th>Population</th>\n",
       "      <th>AveOccup</th>\n",
       "      <th>Latitude</th>\n",
       "      <th>Longitude</th>\n",
       "      <th>MedHouseVal</th>\n",
       "    </tr>\n",
       "  </thead>\n",
       "  <tbody>\n",
       "    <tr>\n",
       "      <th>0</th>\n",
       "      <td>8.3252</td>\n",
       "      <td>41.0</td>\n",
       "      <td>6.984127</td>\n",
       "      <td>1.023810</td>\n",
       "      <td>322.0</td>\n",
       "      <td>2.555556</td>\n",
       "      <td>37.88</td>\n",
       "      <td>-122.23</td>\n",
       "      <td>4.526</td>\n",
       "    </tr>\n",
       "    <tr>\n",
       "      <th>1</th>\n",
       "      <td>8.3014</td>\n",
       "      <td>21.0</td>\n",
       "      <td>6.238137</td>\n",
       "      <td>0.971880</td>\n",
       "      <td>2401.0</td>\n",
       "      <td>2.109842</td>\n",
       "      <td>37.86</td>\n",
       "      <td>-122.22</td>\n",
       "      <td>3.585</td>\n",
       "    </tr>\n",
       "    <tr>\n",
       "      <th>2</th>\n",
       "      <td>7.2574</td>\n",
       "      <td>52.0</td>\n",
       "      <td>8.288136</td>\n",
       "      <td>1.073446</td>\n",
       "      <td>496.0</td>\n",
       "      <td>2.802260</td>\n",
       "      <td>37.85</td>\n",
       "      <td>-122.24</td>\n",
       "      <td>3.521</td>\n",
       "    </tr>\n",
       "    <tr>\n",
       "      <th>3</th>\n",
       "      <td>5.6431</td>\n",
       "      <td>52.0</td>\n",
       "      <td>5.817352</td>\n",
       "      <td>1.073059</td>\n",
       "      <td>558.0</td>\n",
       "      <td>2.547945</td>\n",
       "      <td>37.85</td>\n",
       "      <td>-122.25</td>\n",
       "      <td>3.413</td>\n",
       "    </tr>\n",
       "    <tr>\n",
       "      <th>4</th>\n",
       "      <td>3.8462</td>\n",
       "      <td>52.0</td>\n",
       "      <td>6.281853</td>\n",
       "      <td>1.081081</td>\n",
       "      <td>565.0</td>\n",
       "      <td>2.181467</td>\n",
       "      <td>37.85</td>\n",
       "      <td>-122.25</td>\n",
       "      <td>3.422</td>\n",
       "    </tr>\n",
       "    <tr>\n",
       "      <th>...</th>\n",
       "      <td>...</td>\n",
       "      <td>...</td>\n",
       "      <td>...</td>\n",
       "      <td>...</td>\n",
       "      <td>...</td>\n",
       "      <td>...</td>\n",
       "      <td>...</td>\n",
       "      <td>...</td>\n",
       "      <td>...</td>\n",
       "    </tr>\n",
       "    <tr>\n",
       "      <th>20635</th>\n",
       "      <td>1.5603</td>\n",
       "      <td>25.0</td>\n",
       "      <td>5.045455</td>\n",
       "      <td>1.133333</td>\n",
       "      <td>845.0</td>\n",
       "      <td>2.560606</td>\n",
       "      <td>39.48</td>\n",
       "      <td>-121.09</td>\n",
       "      <td>0.781</td>\n",
       "    </tr>\n",
       "    <tr>\n",
       "      <th>20636</th>\n",
       "      <td>2.5568</td>\n",
       "      <td>18.0</td>\n",
       "      <td>6.114035</td>\n",
       "      <td>1.315789</td>\n",
       "      <td>356.0</td>\n",
       "      <td>3.122807</td>\n",
       "      <td>39.49</td>\n",
       "      <td>-121.21</td>\n",
       "      <td>0.771</td>\n",
       "    </tr>\n",
       "    <tr>\n",
       "      <th>20637</th>\n",
       "      <td>1.7000</td>\n",
       "      <td>17.0</td>\n",
       "      <td>5.205543</td>\n",
       "      <td>1.120092</td>\n",
       "      <td>1007.0</td>\n",
       "      <td>2.325635</td>\n",
       "      <td>39.43</td>\n",
       "      <td>-121.22</td>\n",
       "      <td>0.923</td>\n",
       "    </tr>\n",
       "    <tr>\n",
       "      <th>20638</th>\n",
       "      <td>1.8672</td>\n",
       "      <td>18.0</td>\n",
       "      <td>5.329513</td>\n",
       "      <td>1.171920</td>\n",
       "      <td>741.0</td>\n",
       "      <td>2.123209</td>\n",
       "      <td>39.43</td>\n",
       "      <td>-121.32</td>\n",
       "      <td>0.847</td>\n",
       "    </tr>\n",
       "    <tr>\n",
       "      <th>20639</th>\n",
       "      <td>2.3886</td>\n",
       "      <td>16.0</td>\n",
       "      <td>5.254717</td>\n",
       "      <td>1.162264</td>\n",
       "      <td>1387.0</td>\n",
       "      <td>2.616981</td>\n",
       "      <td>39.37</td>\n",
       "      <td>-121.24</td>\n",
       "      <td>0.894</td>\n",
       "    </tr>\n",
       "  </tbody>\n",
       "</table>\n",
       "<p>20640 rows × 9 columns</p>\n",
       "</div>"
      ],
      "text/plain": [
       "       MedInc  HouseAge  AveRooms  AveBedrms  Population  AveOccup  Latitude  \\\n",
       "0      8.3252      41.0  6.984127   1.023810       322.0  2.555556     37.88   \n",
       "1      8.3014      21.0  6.238137   0.971880      2401.0  2.109842     37.86   \n",
       "2      7.2574      52.0  8.288136   1.073446       496.0  2.802260     37.85   \n",
       "3      5.6431      52.0  5.817352   1.073059       558.0  2.547945     37.85   \n",
       "4      3.8462      52.0  6.281853   1.081081       565.0  2.181467     37.85   \n",
       "...       ...       ...       ...        ...         ...       ...       ...   \n",
       "20635  1.5603      25.0  5.045455   1.133333       845.0  2.560606     39.48   \n",
       "20636  2.5568      18.0  6.114035   1.315789       356.0  3.122807     39.49   \n",
       "20637  1.7000      17.0  5.205543   1.120092      1007.0  2.325635     39.43   \n",
       "20638  1.8672      18.0  5.329513   1.171920       741.0  2.123209     39.43   \n",
       "20639  2.3886      16.0  5.254717   1.162264      1387.0  2.616981     39.37   \n",
       "\n",
       "       Longitude  MedHouseVal  \n",
       "0        -122.23        4.526  \n",
       "1        -122.22        3.585  \n",
       "2        -122.24        3.521  \n",
       "3        -122.25        3.413  \n",
       "4        -122.25        3.422  \n",
       "...          ...          ...  \n",
       "20635    -121.09        0.781  \n",
       "20636    -121.21        0.771  \n",
       "20637    -121.22        0.923  \n",
       "20638    -121.32        0.847  \n",
       "20639    -121.24        0.894  \n",
       "\n",
       "[20640 rows x 9 columns]"
      ]
     },
     "execution_count": 3,
     "metadata": {},
     "output_type": "execute_result"
    }
   ],
   "source": [
    "df = california_housing.frame\n",
    "df"
   ]
  },
  {
   "cell_type": "markdown",
   "id": "92f5d9d7",
   "metadata": {},
   "source": [
    "#### 2а. Проверте данные на пропуски. Удалите в случае обнаружения"
   ]
  },
  {
   "cell_type": "code",
   "execution_count": 4,
   "id": "b70a72b2",
   "metadata": {},
   "outputs": [],
   "source": [
    "# Enter your code here"
   ]
  },
  {
   "cell_type": "code",
   "execution_count": 5,
   "id": "d4a9483d",
   "metadata": {},
   "outputs": [],
   "source": [
    "# Данные не содержат пропусков"
   ]
  },
  {
   "cell_type": "markdown",
   "id": "da7080cc",
   "metadata": {},
   "source": [
    "#### 2b. Нормализуйте один из признаков"
   ]
  },
  {
   "cell_type": "code",
   "execution_count": 6,
   "id": "5d773e56",
   "metadata": {},
   "outputs": [
    {
     "ename": "SyntaxError",
     "evalue": "invalid syntax (3930882145.py, line 2)",
     "output_type": "error",
     "traceback": [
      "\u001b[0;36m  Cell \u001b[0;32mIn[6], line 2\u001b[0;36m\u001b[0m\n\u001b[0;31m    scaler = # Enter your code here\u001b[0m\n\u001b[0m             ^\u001b[0m\n\u001b[0;31mSyntaxError\u001b[0m\u001b[0;31m:\u001b[0m invalid syntax\n"
     ]
    }
   ],
   "source": [
    "from sklearn import preprocessing\n",
    "scaler = # Enter your code here"
   ]
  },
  {
   "cell_type": "markdown",
   "id": "482f9fdd",
   "metadata": {},
   "source": [
    "### 3. Разделите выборку на обучающее и тестовое подмножества. 80% данных оставить на обучающее множество, 20% - на тестовое"
   ]
  },
  {
   "cell_type": "code",
   "execution_count": null,
   "id": "5208807b",
   "metadata": {},
   "outputs": [],
   "source": [
    "X = # Enter your code here\n",
    "y = # Enter your code here\n",
    "X_train, X_test, y_train, y_test = # Enter your code here"
   ]
  },
  {
   "cell_type": "markdown",
   "id": "10211313",
   "metadata": {},
   "source": [
    "### 4. Обучите модель регрессии на обучающем множетсве."
   ]
  },
  {
   "cell_type": "code",
   "execution_count": null,
   "id": "4a8e4406",
   "metadata": {},
   "outputs": [],
   "source": [
    "model = LinearRegression().fit(X_train, y_train)\n",
    "model.score(X_train, y_train)"
   ]
  },
  {
   "cell_type": "markdown",
   "id": "8c2f5d44",
   "metadata": {},
   "source": [
    "### 5. Для тестового множества предскажите целевую переменную и сравните с истинным значением, посчитав точность предсказания модели. Для этого используйте встроенную функцию score"
   ]
  },
  {
   "cell_type": "code",
   "execution_count": null,
   "id": "a9eb0c62",
   "metadata": {},
   "outputs": [],
   "source": [
    "model_test = LinearRegression().fit(X_test,y_test)\n",
    "model_test.score(X_test,y_test)"
   ]
  },
  {
   "cell_type": "markdown",
   "id": "56c20dfb",
   "metadata": {},
   "source": [
    "### 6. Обучите дерево решений на обучающем множестве. "
   ]
  },
  {
   "cell_type": "code",
   "execution_count": null,
   "id": "d5b4c11d",
   "metadata": {},
   "outputs": [],
   "source": [
    "from sklearn.tree import DecisionTreeClassifier\n",
    "tree_clf = # Enter your code here"
   ]
  },
  {
   "cell_type": "code",
   "execution_count": null,
   "id": "758fd0f2",
   "metadata": {},
   "outputs": [],
   "source": [
    "# preprocess labels\n",
    "lab = preprocessing.LabelEncoder()\n",
    "y_transformed = # Enter your code here"
   ]
  },
  {
   "cell_type": "markdown",
   "id": "a4e3192c",
   "metadata": {},
   "source": [
    "- Обучите модель и визуалитизируйте решение дерева"
   ]
  },
  {
   "cell_type": "code",
   "execution_count": null,
   "id": "7f06241e",
   "metadata": {},
   "outputs": [],
   "source": [
    "# fit the tree\n",
    "# Enter your code here"
   ]
  },
  {
   "cell_type": "code",
   "execution_count": null,
   "id": "3dcbe98a",
   "metadata": {},
   "outputs": [],
   "source": [
    "plt.figure(figsize=(25,20))\n",
    "plot_tree(# Enter your code here);"
   ]
  },
  {
   "cell_type": "markdown",
   "id": "ce2cc1cd",
   "metadata": {},
   "source": [
    "### 7. Оптимизируйте глубину дерева. "
   ]
  },
  {
   "cell_type": "code",
   "execution_count": null,
   "id": "7199c763",
   "metadata": {},
   "outputs": [],
   "source": [
    "clf = DecisionTreeClassifier(random_state=1,max_depth=# Enter your code here)\n",
    "# fit he model\n",
    "# Enter your code here"
   ]
  },
  {
   "cell_type": "markdown",
   "id": "7f9a72b2",
   "metadata": {},
   "source": [
    "- визуалитизируйте решение дерева посе подбора оптимальной глубины "
   ]
  },
  {
   "cell_type": "code",
   "execution_count": null,
   "id": "8e504e99",
   "metadata": {},
   "outputs": [],
   "source": [
    "# Enter your code here"
   ]
  },
  {
   "cell_type": "markdown",
   "id": "84733012",
   "metadata": {},
   "source": [
    "### 8. Cформулируйте выводы"
   ]
  },
  {
   "cell_type": "code",
   "execution_count": null,
   "id": "a03e5da5",
   "metadata": {},
   "outputs": [],
   "source": [
    "# Вывод..."
   ]
  },
  {
   "cell_type": "markdown",
   "id": "8c4d14e8",
   "metadata": {
    "id": "IMsXTzect7vA"
   },
   "source": [
    "### 9. Decision Tree Regressor"
   ]
  },
  {
   "cell_type": "markdown",
   "id": "d2beb69e",
   "metadata": {
    "id": "ajFfwMh2t7vA"
   },
   "source": [
    "В данном задании мы посмотрим не на результат применения [`DecisionTreeRegressor`](https://scikit-learn.org/stable/modules/generated/sklearn.tree.DecisionTreeRegressor.html) для сгенеренного набора данных."
   ]
  },
  {
   "cell_type": "markdown",
   "id": "a6d6bc34",
   "metadata": {
    "id": "g0U7EVEDt7vA"
   },
   "source": [
    "Генерация данных:"
   ]
  },
  {
   "cell_type": "code",
   "execution_count": 3,
   "id": "d40078f5",
   "metadata": {
    "id": "43krZmBpt7vA"
   },
   "outputs": [],
   "source": [
    "np.random.seed(42)\n",
    "m = 200\n",
    "x = np.random.rand(m, 1) * 3 - 1\n",
    "y = 4 * (x - 0.5) ** 3\n",
    "y = y + np.random.randn(m, 1) / 10"
   ]
  },
  {
   "cell_type": "markdown",
   "id": "202d3702",
   "metadata": {
    "id": "S8zf9cmBt7vB"
   },
   "source": [
    "Функция для визуализации результата (можете модифицировать).\n"
   ]
  },
  {
   "cell_type": "code",
   "execution_count": 12,
   "id": "a468bb58",
   "metadata": {
    "id": "GmD6oXo7t7vB"
   },
   "outputs": [],
   "source": [
    "def plot_regression_predictions(tree_reg, x, y, max_depth, x_range = [0, 1], \n",
    "                                y_range = [-1, 1]):\n",
    "    \"\"\"\n",
    "    Visualize data and model predictions\n",
    "    :param tree_reg: trained model,\n",
    "    :param x: features\n",
    "    :param y: true values\n",
    "    :param max_depth: max tree depth\n",
    "    :param x_range: x range\n",
    "    :param y_range: y range\n",
    "    \"\"\"\n",
    "    x_pred = np.linspace(x_range[0], x_range[1], 500).reshape(-1, 1)\n",
    "    y_pred = tree_reg.predict(x_pred)\n",
    "    bias = np.mean(y_pred)\n",
    "    variance = np.var(y_pred) \n",
    "\n",
    "    plt.xlim(x_range)\n",
    "    plt.ylim(y_range)\n",
    "\n",
    "    plt.xlabel(\"$x$\", fontsize=18)\n",
    "    plt.ylabel(\"$y$\", fontsize=18, rotation=0)\n",
    "    \n",
    "    plt.plot(x, y, \"b.\", label=\"data\")\n",
    "    plt.plot(x_pred, y_pred, \"r.-\", linewidth=2, label=f\"max_depth = {max_depth}\")\n",
    "    plt.legend()\n",
    "    return bias, variance"
   ]
  },
  {
   "cell_type": "markdown",
   "id": "c69fb0de",
   "metadata": {
    "id": "jLxThDv1t7vC"
   },
   "source": [
    "Продемонстрируйте результат [`DecisionTreeRegressor`](https://scikit-learn.org/stable/modules/generated/sklearn.tree.DecisionTreeRegressor.html) при изменении глубины дерева (`random_state=42`). Попробуйте значения глубины $2, 5, 6, 9, 12, 15$\n",
    "Используйте для визуализации те же данные, на которых происходило обучение.\n"
   ]
  },
  {
   "cell_type": "markdown",
   "id": "b07f1679",
   "metadata": {
    "id": "ILCusf7ut7vC"
   },
   "source": [
    "Примечание: Для построения серии картинок используйте `plt.subplot`.\n",
    "Пример использования: [ссылка](https://matplotlib.org/stable/gallery/subplots_axes_and_figures/shared_axis_demo.html#sphx-glr-gallery-subplots-axes-and-figures-shared-axis-demo-py)."
   ]
  },
  {
   "cell_type": "code",
   "execution_count": null,
   "id": "50f08496",
   "metadata": {
    "colab": {
     "base_uri": "https://localhost:8080/",
     "height": 835
    },
    "id": "WU6h_HsKt7vC",
    "outputId": "84886f0e-f1de-4600-9bd5-8badb3c4a06c"
   },
   "outputs": [],
   "source": [
    "plt.figure(figsize=(10,10))\n",
    "tree_depths = np.array([2,5,6,9,12,15])\n",
    "tree_regs =[]\n",
    "biases, variances = [],[]\n",
    "for i,depth in enumerate(tree_depths):\n",
    "    tree_reg = DecisionTreeRegressor(# Your code here\n",
    "    # Your code here\n",
    "    print('bias for DT with depth=',depth, 'is', biases[-1])\n",
    "    print('variance for DT with depth=',depth, 'is', variances[-1])"
   ]
  },
  {
   "cell_type": "markdown",
   "id": "03379806",
   "metadata": {
    "id": "qBV6qIVTt7vC"
   },
   "source": [
    "### 10. Как изменяется при увеличении глубины дерева bias и variance модели? \n",
    "\n",
    "**Напишите ответ**"
   ]
  },
  {
   "cell_type": "code",
   "execution_count": 2,
   "id": "90594c26",
   "metadata": {
    "id": "sYOC0MKVrj9K"
   },
   "outputs": [],
   "source": [
    "# Ответ и выводы..."
   ]
  },
  {
   "cell_type": "markdown",
   "id": "7e4f3b1a",
   "metadata": {
    "id": "6CtvIpeHt7vD"
   },
   "source": [
    "## Формат результата"
   ]
  },
  {
   "cell_type": "markdown",
   "id": "56b08e86",
   "metadata": {
    "id": "7k7Wx1pAt7vD"
   },
   "source": [
    "График с демонстрацией bias-variance trade-off для `DecisionTreeRegressor` при изменении глубины дерева.\n",
    "\n",
    "Пример графика:\n",
    "\n",
    "<img src =\"https://edunet.kea.su/repo/EduNet-web_dependencies/Exercises/EX03/result_1_task_ex03.png\" width=\"600\">"
   ]
  },
  {
   "cell_type": "markdown",
   "id": "89e32f42",
   "metadata": {},
   "source": [
    "Фактически, дерево решений бьет пространство признаков с помощью плоскостей на области, и в каждой из этих областей предсказывается какая-то константная величина."
   ]
  }
 ],
 "metadata": {
  "kernelspec": {
   "display_name": "Python 3 (ipykernel)",
   "language": "python",
   "name": "python3"
  },
  "language_info": {
   "codemirror_mode": {
    "name": "ipython",
    "version": 3
   },
   "file_extension": ".py",
   "mimetype": "text/x-python",
   "name": "python",
   "nbconvert_exporter": "python",
   "pygments_lexer": "ipython3",
   "version": "3.8.8"
  }
 },
 "nbformat": 4,
 "nbformat_minor": 5
}