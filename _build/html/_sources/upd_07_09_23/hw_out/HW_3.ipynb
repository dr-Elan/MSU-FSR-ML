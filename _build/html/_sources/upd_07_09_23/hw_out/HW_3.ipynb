{
 "cells": [
  {
   "cell_type": "markdown",
   "id": "faba3743",
   "metadata": {},
   "source": [
    "# HW_3 DECISION TRESS"
   ]
  },
  {
   "cell_type": "code",
   "execution_count": null,
   "id": "2a5cc838",
   "metadata": {},
   "outputs": [],
   "source": [
    "import pandas as pd\n",
    "import numpy as np\n",
    "import seaborn as sns\n",
    " \n",
    "from matplotlib import pyplot as plt\n",
    "from scipy import stats\n",
    " \n",
    "from sklearn.linear_model import LinearRegression\n",
    "from sklearn.model_selection import train_test_split\n",
    "from sklearn.datasets import fetch_california_housing\n",
    "from sklearn.tree import DecisionTreeClassifier, plot_tree\n",
    "import pandas as pd\n",
    "import matplotlib.pyplot as plt"
   ]
  },
  {
   "cell_type": "code",
   "execution_count": null,
   "id": "a33188a4",
   "metadata": {},
   "outputs": [],
   "source": [
    "california_housing = fetch_california_housing(as_frame=True)"
   ]
  },
  {
   "cell_type": "markdown",
   "id": "35d87ccc",
   "metadata": {},
   "source": [
    "### 1. Получите данные и загрузите их в рабочую среду."
   ]
  },
  {
   "cell_type": "code",
   "execution_count": null,
   "id": "d4b2b533",
   "metadata": {},
   "outputs": [],
   "source": [
    "df = california_housing.frame\n",
    "df"
   ]
  },
  {
   "cell_type": "markdown",
   "id": "92f5d9d7",
   "metadata": {},
   "source": [
    "#### 2а. Проверте данные на пропуски. Удалите в случае обнаружения"
   ]
  },
  {
   "cell_type": "code",
   "execution_count": null,
   "id": "b70a72b2",
   "metadata": {},
   "outputs": [],
   "source": [
    "# Enter your code here"
   ]
  },
  {
   "cell_type": "code",
   "execution_count": null,
   "id": "d4a9483d",
   "metadata": {},
   "outputs": [],
   "source": [
    "# Данные не содержат пропусков"
   ]
  },
  {
   "cell_type": "markdown",
   "id": "da7080cc",
   "metadata": {},
   "source": [
    "#### 2b. Нормализуйте один из признаков"
   ]
  },
  {
   "cell_type": "code",
   "execution_count": null,
   "id": "5d773e56",
   "metadata": {},
   "outputs": [],
   "source": [
    "from sklearn import preprocessing\n",
    "scaler = # Enter your code here"
   ]
  },
  {
   "cell_type": "markdown",
   "id": "482f9fdd",
   "metadata": {},
   "source": [
    "### 3. Разделите выборку на обучающее и тестовое подмножества. 80% данных оставить на обучающее множество, 20% - на тестовое"
   ]
  },
  {
   "cell_type": "code",
   "execution_count": null,
   "id": "5208807b",
   "metadata": {},
   "outputs": [],
   "source": [
    "X = # Enter your code here\n",
    "y = # Enter your code here\n",
    "X_train, X_test, y_train, y_test = # Enter your code here"
   ]
  },
  {
   "cell_type": "markdown",
   "id": "10211313",
   "metadata": {},
   "source": [
    "### 4. Обучите модель регрессии на обучающем множетсве."
   ]
  },
  {
   "cell_type": "code",
   "execution_count": null,
   "id": "4a8e4406",
   "metadata": {},
   "outputs": [],
   "source": [
    "model = LinearRegression().fit(X_train, y_train)\n",
    "model.score(X_train, y_train)"
   ]
  },
  {
   "cell_type": "markdown",
   "id": "8c2f5d44",
   "metadata": {},
   "source": [
    "### 5. Для тестового множества предскажите целевую переменную и сравните с истинным значением, посчитав точность предсказания модели. Для этого используйте встроенную функцию score"
   ]
  },
  {
   "cell_type": "code",
   "execution_count": null,
   "id": "a9eb0c62",
   "metadata": {},
   "outputs": [],
   "source": [
    "model_test = LinearRegression().fit(X_test,y_test)\n",
    "model_test.score(X_test,y_test)"
   ]
  },
  {
   "cell_type": "markdown",
   "id": "56c20dfb",
   "metadata": {},
   "source": [
    "### 6. Обучите дерево решений на обучающем множестве. "
   ]
  },
  {
   "cell_type": "code",
   "execution_count": null,
   "id": "d5b4c11d",
   "metadata": {},
   "outputs": [],
   "source": [
    "from sklearn.tree import DecisionTreeClassifier\n",
    "tree_clf = # Enter your code here"
   ]
  },
  {
   "cell_type": "code",
   "execution_count": null,
   "id": "758fd0f2",
   "metadata": {},
   "outputs": [],
   "source": [
    "# preprocess labels\n",
    "lab = preprocessing.LabelEncoder()\n",
    "y_transformed = # Enter your code here"
   ]
  },
  {
   "cell_type": "markdown",
   "id": "a4e3192c",
   "metadata": {},
   "source": [
    "- Обучите модель и визуалитизируйте решение дерева"
   ]
  },
  {
   "cell_type": "code",
   "execution_count": null,
   "id": "7f06241e",
   "metadata": {},
   "outputs": [],
   "source": [
    "# fit the tree\n",
    "# Enter your code here"
   ]
  },
  {
   "cell_type": "code",
   "execution_count": null,
   "id": "3dcbe98a",
   "metadata": {},
   "outputs": [],
   "source": [
    "plt.figure(figsize=(25,20))\n",
    "plot_tree(# Enter your code here);"
   ]
  },
  {
   "cell_type": "markdown",
   "id": "ce2cc1cd",
   "metadata": {},
   "source": [
    "### 7. Оптимизируйте глубину дерева. "
   ]
  },
  {
   "cell_type": "code",
   "execution_count": null,
   "id": "7199c763",
   "metadata": {},
   "outputs": [],
   "source": [
    "clf = DecisionTreeClassifier(random_state=1,max_depth=# Enter your code here)\n",
    "# fit he model\n",
    "# Enter your code here"
   ]
  },
  {
   "cell_type": "markdown",
   "id": "7f9a72b2",
   "metadata": {},
   "source": [
    "- визуалитизируйте решение дерева посе подбора оптимальной глубины "
   ]
  },
  {
   "cell_type": "code",
   "execution_count": null,
   "id": "8e504e99",
   "metadata": {},
   "outputs": [],
   "source": [
    "# Enter your code here"
   ]
  },
  {
   "cell_type": "markdown",
   "id": "84733012",
   "metadata": {},
   "source": [
    "### 8. Cформулируйте выводы"
   ]
  },
  {
   "cell_type": "code",
   "execution_count": null,
   "id": "a03e5da5",
   "metadata": {},
   "outputs": [],
   "source": [
    "# Вывод..."
   ]
  },
  {
   "cell_type": "markdown",
   "id": "8c4d14e8",
   "metadata": {
    "id": "IMsXTzect7vA"
   },
   "source": [
    "### 9. Decision Tree Regressor"
   ]
  },
  {
   "cell_type": "markdown",
   "id": "d2beb69e",
   "metadata": {
    "id": "ajFfwMh2t7vA"
   },
   "source": [
    "В данном задании мы посмотрим не на результат применения [`DecisionTreeRegressor`](https://scikit-learn.org/stable/modules/generated/sklearn.tree.DecisionTreeRegressor.html) для сгенеренного набора данных."
   ]
  },
  {
   "cell_type": "markdown",
   "id": "a6d6bc34",
   "metadata": {
    "id": "g0U7EVEDt7vA"
   },
   "source": [
    "Генерация данных:"
   ]
  },
  {
   "cell_type": "code",
   "execution_count": 3,
   "id": "d40078f5",
   "metadata": {
    "id": "43krZmBpt7vA"
   },
   "outputs": [],
   "source": [
    "np.random.seed(42)\n",
    "m = 200\n",
    "x = np.random.rand(m, 1) * 3 - 1\n",
    "y = 4 * (x - 0.5) ** 3\n",
    "y = y + np.random.randn(m, 1) / 10"
   ]
  },
  {
   "cell_type": "markdown",
   "id": "202d3702",
   "metadata": {
    "id": "S8zf9cmBt7vB"
   },
   "source": [
    "Функция для визуализации результата (можете модифицировать).\n"
   ]
  },
  {
   "cell_type": "code",
   "execution_count": 12,
   "id": "a468bb58",
   "metadata": {
    "id": "GmD6oXo7t7vB"
   },
   "outputs": [],
   "source": [
    "def plot_regression_predictions(tree_reg, x, y, max_depth, x_range = [0, 1], \n",
    "                                y_range = [-1, 1]):\n",
    "    \"\"\"\n",
    "    Visualize data and model predictions\n",
    "    :param tree_reg: trained model,\n",
    "    :param x: features\n",
    "    :param y: true values\n",
    "    :param max_depth: max tree depth\n",
    "    :param x_range: x range\n",
    "    :param y_range: y range\n",
    "    \"\"\"\n",
    "    x_pred = np.linspace(x_range[0], x_range[1], 500).reshape(-1, 1)\n",
    "    y_pred = tree_reg.predict(x_pred)\n",
    "    bias = np.mean(y_pred)\n",
    "    variance = np.var(y_pred) \n",
    "\n",
    "    plt.xlim(x_range)\n",
    "    plt.ylim(y_range)\n",
    "\n",
    "    plt.xlabel(\"$x$\", fontsize=18)\n",
    "    plt.ylabel(\"$y$\", fontsize=18, rotation=0)\n",
    "    \n",
    "    plt.plot(x, y, \"b.\", label=\"data\")\n",
    "    plt.plot(x_pred, y_pred, \"r.-\", linewidth=2, label=f\"max_depth = {max_depth}\")\n",
    "    plt.legend()\n",
    "    return bias, variance"
   ]
  },
  {
   "cell_type": "markdown",
   "id": "c69fb0de",
   "metadata": {
    "id": "jLxThDv1t7vC"
   },
   "source": [
    "Продемонстрируйте результат [`DecisionTreeRegressor`](https://scikit-learn.org/stable/modules/generated/sklearn.tree.DecisionTreeRegressor.html) при изменении глубины дерева (`random_state=42`). Попробуйте значения глубины $2, 5, 6, 9, 12, 15$\n",
    "Используйте для визуализации те же данные, на которых происходило обучение.\n"
   ]
  },
  {
   "cell_type": "markdown",
   "id": "b07f1679",
   "metadata": {
    "id": "ILCusf7ut7vC"
   },
   "source": [
    "Примечание: Для построения серии картинок используйте `plt.subplot`.\n",
    "Пример использования: [ссылка](https://matplotlib.org/stable/gallery/subplots_axes_and_figures/shared_axis_demo.html#sphx-glr-gallery-subplots-axes-and-figures-shared-axis-demo-py)."
   ]
  },
  {
   "cell_type": "code",
   "execution_count": null,
   "id": "50f08496",
   "metadata": {
    "colab": {
     "base_uri": "https://localhost:8080/",
     "height": 835
    },
    "id": "WU6h_HsKt7vC",
    "outputId": "84886f0e-f1de-4600-9bd5-8badb3c4a06c"
   },
   "outputs": [],
   "source": [
    "plt.figure(figsize=(10,10))\n",
    "tree_depths = np.array([2,5,6,9,12,15])\n",
    "tree_regs =[]\n",
    "biases, variances = [],[]\n",
    "for i,depth in enumerate(tree_depths):\n",
    "    tree_reg = DecisionTreeRegressor(# Your code here\n",
    "    # Your code here\n",
    "    print('bias for DT with depth=',depth, 'is', biases[-1])\n",
    "    print('variance for DT with depth=',depth, 'is', variances[-1])"
   ]
  },
  {
   "cell_type": "markdown",
   "id": "03379806",
   "metadata": {
    "id": "qBV6qIVTt7vC"
   },
   "source": [
    "### 10. Как изменяется при увеличении глубины дерева bias и variance модели? \n",
    "\n",
    "**Напишите ответ**"
   ]
  },
  {
   "cell_type": "code",
   "execution_count": 2,
   "id": "90594c26",
   "metadata": {
    "id": "sYOC0MKVrj9K"
   },
   "outputs": [],
   "source": [
    "# Ответ и выводы..."
   ]
  },
  {
   "cell_type": "markdown",
   "id": "7e4f3b1a",
   "metadata": {
    "id": "6CtvIpeHt7vD"
   },
   "source": [
    "## Формат результата"
   ]
  },
  {
   "cell_type": "markdown",
   "id": "56b08e86",
   "metadata": {
    "id": "7k7Wx1pAt7vD"
   },
   "source": [
    "График с демонстрацией bias-variance trade-off для `DecisionTreeRegressor` при изменении глубины дерева.\n",
    "\n",
    "Пример графика:\n",
    "\n",
    "<img src =\"https://edunet.kea.su/repo/EduNet-web_dependencies/Exercises/EX03/result_1_task_ex03.png\" width=\"600\">"
   ]
  },
  {
   "cell_type": "markdown",
   "id": "89e32f42",
   "metadata": {},
   "source": [
    "Фактически, дерево решений бьет пространство признаков с помощью плоскостей на области, и в каждой из этих областей предсказывается какая-то константная величина."
   ]
  }
 ],
 "metadata": {
  "kernelspec": {
   "display_name": "Python 3 (ipykernel)",
   "language": "python",
   "name": "python3"
  },
  "language_info": {
   "codemirror_mode": {
    "name": "ipython",
    "version": 3
   },
   "file_extension": ".py",
   "mimetype": "text/x-python",
   "name": "python",
   "nbconvert_exporter": "python",
   "pygments_lexer": "ipython3",
   "version": "3.10.9"
  }
 },
 "nbformat": 4,
 "nbformat_minor": 5
}
