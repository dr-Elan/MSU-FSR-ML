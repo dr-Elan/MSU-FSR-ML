{
 "cells": [
  {
   "cell_type": "markdown",
   "id": "bd904bf3",
   "metadata": {},
   "source": [
    "# Кластеризация"
   ]
  },
  {
   "cell_type": "markdown",
   "id": "81b6a3f4",
   "metadata": {},
   "source": [
    "<img src =\"https://edunet.kea.su/repo/EduNet-content/L01/out/clustering_task.png\" width=\"600\" >\n",
    "\n"
   ]
  },
  {
   "cell_type": "markdown",
   "id": "2aaecd7e",
   "metadata": {},
   "source": [
    "Кластеризация — **разбиение множества входных сигналов на классы при том, что ни количество, ни признаки классов заранее не известны**. После обучения модель способна определять, к какому классу относится входной сигнал. Модель также может сигнализировать о том, что входной сигнал не относится ни к одному из выделенных классов — это является признаком новых, отсутствующих в обучающей выборке данных. Таким образом, подобная модель может выявлять новые, неизвестные ранее классы сигналов. Соответствие между классами, выделенными сетью, и классами, существующими в предметной области, устанавливается человеком.\n",
    "\n",
    "Относится к задачам **обучения без учителя**."
   ]
  },
  {
   "cell_type": "markdown",
   "id": "7815ef38",
   "metadata": {
    "id": "GbfOLTLvd6de"
   },
   "source": [
    "# Методы понижения размерности\n",
    "\n",
    "Примените методы понижения размерности: PCA, t-SNE и UMAP к изображениям клеток крови из датасета BloodMNIST. Отобразите проекцию данных на двумерное пространство, так как это допускает наиболее простую визуализацию полученного результата (воспользуйтесь [`sns.scatterplot`](https://seaborn.pydata.org/generated/seaborn.scatterplot.html)).  Какой метод позволяет лучше разделить данные в пространстве? Опишите ваши наблюдения. \n",
    "\n",
    "Произведем загрузку данных:"
   ]
  },
  {
   "cell_type": "code",
   "execution_count": 16,
   "id": "660fba44",
   "metadata": {},
   "outputs": [
    {
     "name": "stderr",
     "output_type": "stream",
     "text": [
      "\"wget\" ­Ґ пў«пҐвбп ў­гваҐ­­Ґ© Ё«Ё ў­Ґи­Ґ©\n",
      "Є®¬ ­¤®©, ЁбЇ®«­пҐ¬®© Їа®Ја ¬¬®© Ё«Ё Ї ЄҐв­л¬ д ©«®¬.\n"
     ]
    }
   ],
   "source": [
    "!pip install -q gdown\n",
    "!pip install -q umap-learn\n",
    "!pip install -q --upgrade git+https://github.com/MedMNIST/MedMNIST.git\n",
    "!wget -q https://edunet.kea.su/repo/EduNet-web_dependencies/Exercises/EX04/dataset_without_pytorch.py"
   ]
  },
  {
   "cell_type": "code",
   "execution_count": 22,
   "id": "d5f2e3d8",
   "metadata": {},
   "outputs": [],
   "source": [
    "import joblib\n",
    "import sys\n",
    "\n",
    "sys.modules['sklearn.externals.joblib'] = joblib\n",
    "\n",
    "import numpy as np\n",
    "import pandas as pd\n",
    "import matplotlib\n",
    "import matplotlib.pyplot as plt\n",
    "import matplotlib.patches as mpatches\n",
    "import seaborn as sns\n",
    "import sklearn\n",
    "import umap\n",
    "import medmnist\n",
    "import time\n",
    "import warnings\n",
    "\n",
    "from sklearn.decomposition import PCA\n",
    "from sklearn.ensemble import RandomForestClassifier\n",
    "from sklearn.model_selection import train_test_split, cross_val_score\n",
    "from sklearn.metrics import accuracy_score\n",
    "from sklearn.preprocessing import StandardScaler\n",
    "\n",
    "from sklearn import manifold\n",
    "from medmnist import INFO, Evaluator\n",
    "\n",
    "matplotlib.style.use('ggplot')\n",
    "%matplotlib inline\n",
    "warnings.filterwarnings(\"ignore\")"
   ]
  },
  {
   "cell_type": "markdown",
   "id": "ee978ba4",
   "metadata": {},
   "source": [
    "## PCA (Метод главных компонент)"
   ]
  },
  {
   "cell_type": "markdown",
   "id": "f381c543",
   "metadata": {},
   "source": [
    "Метод главных компонент (Principal Component Analysys, PCA) — простейший линейный метод снижения размерности, описан [Пирсоном в 1901 году](http://pca.narod.ru/pearson1901.pdf).\n",
    "\n"
   ]
  },
  {
   "cell_type": "markdown",
   "id": "2fc4a6d7",
   "metadata": {},
   "source": [
    "Идея заключается в преобразовании $D$ исходных признаков таким образом, чтобы получить $d$ признаков, содержащих как можно больше информации из исходных признаков:\n",
    "\n",
    "$$\\large z_{ij} = \\sum^D_{k=1}w_{jk}x_{ik},$$\n",
    "\n",
    "где: $\\; z_{ij}$ — новые признаки ($d$ штук),\n",
    "\n",
    "$\\qquad x_{ik}$ — исходные признаки ($D$ штук),\n",
    "\n",
    "$\\qquad w_{jk}$ — вклад исходного $k$-го признака в новый $j$-й."
   ]
  },
  {
   "cell_type": "markdown",
   "id": "4452f676",
   "metadata": {},
   "source": [
    "Запишем линейное преобразование исходного признакового пространства в **матричном виде**.\n",
    "\n",
    "Требование — ортогональность матрицы $W: W^TW = I$, где $I$ — единичная матрица.\n",
    "\n",
    "Получение новых признаков $Z$ осуществляется домножением исходных признаков $X$ на матрицу $W: XW=Z$.\n",
    "\n",
    "Следовательно, $X=ZW^T$\n",
    "\n",
    "Задача: $\\displaystyle ||X-ZW^T||^2 \\rightarrow \\min_{W}$\n",
    "\n",
    "$$$$"
   ]
  },
  {
   "cell_type": "markdown",
   "id": "d35df981",
   "metadata": {},
   "source": [
    "#### Максимизация дисперсии выборки после понижения размерности"
   ]
  },
  {
   "cell_type": "markdown",
   "id": "02148ad8",
   "metadata": {},
   "source": [
    "Рассмотрим простой пример для понимания интуиции, которая стоит за методом главных компонент.\n",
    "\n",
    "У нас есть выборка объектов с двумя признаками $x_1$ и $x_2$, отобразим их на плоскости. Мы хотим, чтобы у нас был только один признак, который характеризует наши данные. Тогда наша задача — провести прямую через наши точки так, чтобы она наилучшим образом характеризовала наши данные"
   ]
  },
  {
   "cell_type": "markdown",
   "id": "e79f0e6e",
   "metadata": {},
   "source": [
    "<img src=\"https://edunet.kea.su/repo/EduNet-content/L04/out/pca_dataset_example.png\" width=\"400\"/>"
   ]
  },
  {
   "cell_type": "markdown",
   "id": "e0dc0974",
   "metadata": {},
   "source": [
    "Проведем прямую вдоль максимального изменения данных и спроецируем точки на нее. Это и будет наша первая главная компонента."
   ]
  },
  {
   "cell_type": "markdown",
   "id": "29b86396",
   "metadata": {},
   "source": [
    "<img src=\"https://edunet.kea.su/repo/EduNet-content/L04/out/first_component_example.png\" width=\"400\"/>"
   ]
  },
  {
   "cell_type": "markdown",
   "id": "8fb2e20d",
   "metadata": {},
   "source": [
    "Теперь мы можем использовать только один признак, который лежит на новой оси, а любые отклонения от нее это просто шум (в действительности, определить, что является шумом в данных это нетривиальная задача)."
   ]
  },
  {
   "cell_type": "markdown",
   "id": "3f3164bc",
   "metadata": {},
   "source": [
    "<img src=\"https://edunet.kea.su/repo/EduNet-content/L04/out/proection_component.png\" width=\"400\"/>"
   ]
  },
  {
   "cell_type": "markdown",
   "id": "8bd9d0a3",
   "metadata": {},
   "source": [
    "Это то, как можно понимать интуицию работы PCA.\n",
    "\n",
    "В более многомерном случае (например, при количестве признаков 200) мы бы делали то же самое:\n",
    "\n",
    "1. Выбираем направление максимального изменения данных — это первая главная компонента.\n",
    "2. Если данные описаны не полностью, то выбираем еще одно направление — перпендикулярное к первому, так, чтобы описать оставшееся изменение в данных.\n",
    "3. Повторяем пункт 2, пока компонент не будет достаточно, вплоть до размерности исходного пространства. При этом каждая следующая компонента будет перпендикулярна предыдущим и объяснять меньше дисперсии, чем любая из них."
   ]
  },
  {
   "cell_type": "markdown",
   "id": "92ba35bd",
   "metadata": {},
   "source": [
    "<img src=\"https://edunet.kea.su/repo/EduNet-content/L04/out/3d_to_2d_pca.png\" width=\"1000\"/>"
   ]
  },
  {
   "cell_type": "markdown",
   "id": "1e3f49eb",
   "metadata": {},
   "source": [
    "### Пример с Титаником"
   ]
  },
  {
   "cell_type": "markdown",
   "id": "49f14495",
   "metadata": {},
   "source": [
    "Чтобы понять, как использовать PCA на практике, найдем главные компоненты для датасета Titanic и посмотрим, как распределится между ними дисперсия."
   ]
  },
  {
   "cell_type": "code",
   "execution_count": null,
   "id": "6416c32e",
   "metadata": {},
   "outputs": [],
   "source": [
    "import pandas as pd\n",
    "import numpy as np\n",
    "\n",
    "\n",
    "# The categorical-to-numerical function\n",
    "# Changed to automatically add column names\n",
    "def cat_to_num(data):  # one-hot encoding\n",
    "    categories = set(data)\n",
    "    features = {}\n",
    "    for cat in categories:\n",
    "        binary = data == cat\n",
    "        if len(set(binary)) == 1:\n",
    "            # Ignore features where all values equal\n",
    "            continue\n",
    "        new_key = f\"{data.name}={cat}\"\n",
    "\n",
    "        features[new_key] = binary.astype(\"int\")\n",
    "    return pd.DataFrame(features)\n",
    "\n",
    "\n",
    "def cabin_features(data):\n",
    "    features = []\n",
    "    for cabin in data:\n",
    "        cabins = str(cabin).split(\" \")\n",
    "        n_cabins = len(cabins)\n",
    "        # First char is the cabin_char\n",
    "        try:\n",
    "            cabin_char = cabins[0][0]\n",
    "        except IndexError:\n",
    "            cabin_char = \"X\"\n",
    "            n_cabins = 0\n",
    "        # The rest is the cabin number\n",
    "        try:\n",
    "            cabin_num = int(cabins[0][1:])\n",
    "        except:\n",
    "            cabin_num = -1\n",
    "        # Add 3 features for each passanger\n",
    "        features.append([cabin_char, cabin_num, n_cabins])\n",
    "    features = np.array(features)\n",
    "    dic_of_features = {\n",
    "        \"Cabin_num\": features[:, 1].astype(\"int\"),\n",
    "        \"N_cabins\": features[:, 2].astype(\"int\"),\n",
    "    }\n",
    "    out = pd.DataFrame(dic_of_features)\n",
    "    char_column = pd.DataFrame({\"Cabin_char\": features[:, 0]})\n",
    "    cabin_ch = cat_to_num(char_column[\"Cabin_char\"])\n",
    "    return out.join(cabin_ch)\n",
    "\n",
    "\n",
    "def prepare_data(data):\n",
    "    \"\"\"Takes a dataframe of raw data and returns ML model features\"\"\"\n",
    "\n",
    "    # Initially, we build a model only on the available numerical values\n",
    "    features = data.drop(\n",
    "        [\n",
    "            \"PassengerId\",\n",
    "            \"Survived\",\n",
    "            \"Fare\",\n",
    "            \"Name\",\n",
    "            \"Sex\",\n",
    "            \"Ticket\",\n",
    "            \"Cabin\",\n",
    "            \"Embarked\",\n",
    "        ],\n",
    "        axis=1,\n",
    "    )\n",
    "\n",
    "    # Setting missing age values to -1\n",
    "    features[\"Age\"] = data[\"Age\"].fillna(-1)\n",
    "\n",
    "    # Adding the sqrt of the fare feature\n",
    "    features[\"sqrt_Fare\"] = np.sqrt(data[\"Fare\"])\n",
    "\n",
    "    # Adding gender categorical value\n",
    "    features = features.join(cat_to_num(data[\"Sex\"]))\n",
    "\n",
    "    # Adding Embarked categorical value\n",
    "    features = features.join(cat_to_num(data[\"Embarked\"]))\n",
    "\n",
    "    # Split cabin\n",
    "    features = features.join(cabin_features(data[\"Cabin\"]))\n",
    "\n",
    "    return features"
   ]
  },
  {
   "cell_type": "markdown",
   "id": "2d88dbe9",
   "metadata": {},
   "source": [
    "##### Без стандартизации"
   ]
  },
  {
   "cell_type": "markdown",
   "id": "b4facc81",
   "metadata": {},
   "source": [
    "Загрузим датасет и подготовим данные"
   ]
  },
  {
   "cell_type": "code",
   "execution_count": null,
   "id": "f076c380",
   "metadata": {},
   "outputs": [],
   "source": [
    "from sklearn.model_selection import train_test_split\n",
    "\n",
    "# 1. Importing the data from the .csv\n",
    "# 2. Pre-processing the data and creating a feature set\n",
    "# 3. Splitting the data into training and test data and labels\n",
    "\n",
    "dataset = pd.read_csv(\n",
    "    \"https://edunet.kea.su/repo/EduNet-web_dependencies/datasets/titanic.csv\"\n",
    ")\n",
    "features = prepare_data(dataset)\n",
    "x_train, x_test, y_train, y_test = train_test_split(\n",
    "    features, dataset[\"Survived\"], test_size=0.2, random_state=42\n",
    ")"
   ]
  },
  {
   "cell_type": "markdown",
   "id": "ae6b710a",
   "metadata": {},
   "source": [
    "Полезной информацией является коэффициент объясненной дисперсии (explained variance ratio) главной компоненты. Этот коэффициент является отношением между дисперсией главной компоненты и суммой дисперсий всех главных компонент. Он указывает долю выборочной дисперсии, которая лежит вдоль оси каждой главной компоненты."
   ]
  },
  {
   "cell_type": "markdown",
   "id": "bf84258d",
   "metadata": {},
   "source": [
    "В модуле PCA, после `fit` можно получить explained variance ratio посредством обращения к полю `explained_variance_ratio_`, а explained variance — посредством обращения к полю `explained_variance_`.\n",
    "\n"
   ]
  },
  {
   "cell_type": "markdown",
   "id": "f149dcb6",
   "metadata": {},
   "source": [
    "Построим график с `explained_variance_ratio_` всех компонент"
   ]
  },
  {
   "cell_type": "code",
   "execution_count": null,
   "id": "9e9f2c9f",
   "metadata": {},
   "outputs": [],
   "source": [
    "import sklearn\n",
    "from sklearn.decomposition import PCA\n",
    "import matplotlib.pyplot as plt\n",
    "\n",
    "# performing PCA with default number of principal components.\n",
    "titanic_pca = sklearn.decomposition.PCA()\n",
    "titanic_pca.fit(x_train)  # fitting our PCA model with the training data.\n",
    "# calculating the explained variance of each of the components.\n",
    "evr = titanic_pca.explained_variance_ratio_\n",
    "\n",
    "# We are plotting the explained variance ratios.\n",
    "plt.bar(range(evr.shape[0]), evr)\n",
    "plt.title(\"Variance by components\")\n",
    "plt.xlabel(\"Components\")\n",
    "plt.ylabel(\"Variance\")\n",
    "plt.show()"
   ]
  },
  {
   "cell_type": "code",
   "execution_count": null,
   "id": "7a7bfef9",
   "metadata": {},
   "outputs": [],
   "source": [
    "titanic_pca.explained_variance_.shape"
   ]
  },
  {
   "cell_type": "markdown",
   "id": "dcc4830a",
   "metadata": {},
   "source": [
    "Из графика не совсем понятно, сколько компонент брать, резко доля объясняемой дисперсии меняется в районе 2-компоненты. Посмотрим, сколько компонент нужно модели"
   ]
  },
  {
   "cell_type": "code",
   "execution_count": null,
   "id": "94ab3728",
   "metadata": {},
   "outputs": [],
   "source": [
    "from sklearn.linear_model import LogisticRegression\n",
    "\n",
    "# 1.The first thing we do is to fit a PCA model to the training set\n",
    "#   of the Titanic dataset with n components from 1 to 10.\n",
    "# 2.We then fit a logistic regression model to the transformed training data\n",
    "#   and make predictions on the transformed test set.\n",
    "\n",
    "for i in range(1, 11):\n",
    "    titanic_pca = sklearn.decomposition.PCA(n_components=i)\n",
    "    titanic_pca.fit(x_train)\n",
    "\n",
    "    x_train_reduced = titanic_pca.transform(x_train)\n",
    "    model = LogisticRegression(max_iter=1000)\n",
    "    model.fit(x_train_reduced, y_train)\n",
    "\n",
    "    x_test_reduced = titanic_pca.transform(x_test)\n",
    "\n",
    "    # prints the number of PCA components and the score\n",
    "    # for the corresponding model.\n",
    "    print(\"%i first components %.2f\" % (i, model.score(x_test_reduced, y_test)))"
   ]
  },
  {
   "cell_type": "markdown",
   "id": "2dd4aa80",
   "metadata": {},
   "source": [
    "Явно видим, что уже первых 7 компонент достаточно для достижения качества, которое далее не меняется. Почему же мы видим снижение уже после 2 компоненты?\n"
   ]
  },
  {
   "cell_type": "markdown",
   "id": "f5a00d99",
   "metadata": {},
   "source": [
    "Мы забыли сделать **стандартизацию** наших данных.\n",
    "\n",
    "В нашем датасете переменные имеют совершенно разные масштабы. Из-за этого часть из них \"перетегягивает\" на себя всю дисперсию.\n",
    "\n",
    "В результате по доле дисперсии судить о важности компонент нельзя."
   ]
  },
  {
   "cell_type": "markdown",
   "id": "3f5829fe",
   "metadata": {},
   "source": [
    "##### Со стандартизацией"
   ]
  },
  {
   "cell_type": "markdown",
   "id": "df2d884b",
   "metadata": {},
   "source": [
    "Сделаем предварительно стандартизацию"
   ]
  },
  {
   "cell_type": "code",
   "execution_count": null,
   "id": "9bd88413",
   "metadata": {},
   "outputs": [],
   "source": [
    "# First, we import the StandardScaler module.\n",
    "from sklearn.preprocessing import StandardScaler\n",
    "\n",
    "# Next, we create a StandardScaler object called scaler by calling the\n",
    "# StandardScaler() function.\n",
    "scaler = StandardScaler()\n",
    "\n",
    "#  We then fit the scaling model to our training data.\n",
    "x_train = scaler.fit_transform(x_train)\n",
    "\n",
    "# We transform your test set by applying the same scaling model.\n",
    "x_test = scaler.transform(x_test)\n",
    "\n",
    "# performing PCA with default number of principal components.\n",
    "titanic_pca = sklearn.decomposition.PCA()\n",
    "titanic_pca.fit(x_train)  # fitting our PCA model with the training data."
   ]
  },
  {
   "cell_type": "markdown",
   "id": "e1f9cea4",
   "metadata": {},
   "source": [
    "\n",
    "В `PCA.components_` лежат вектора главных компонент, которые располагаются там построчно (n_components, n_features)."
   ]
  },
  {
   "cell_type": "code",
   "execution_count": null,
   "id": "34a8725b",
   "metadata": {},
   "outputs": [],
   "source": [
    "titanic_pca.components_.shape"
   ]
  },
  {
   "cell_type": "markdown",
   "id": "3b4d7d42",
   "metadata": {},
   "source": [
    "Обратите внимание, что PCA упорядочивает собственные вектора. Это значит, что собственный вектор, соответствующий главной компоненте и, соответственно, имеющей максимальную дисперсию, будет находиться в первой строке."
   ]
  },
  {
   "cell_type": "code",
   "execution_count": null,
   "id": "83d64413",
   "metadata": {},
   "outputs": [],
   "source": [
    "# calculating the explained variance of each of the components.\n",
    "evr = titanic_pca.explained_variance_ratio_\n",
    "\n",
    "# We are plotting the explained variance ratios.\n",
    "plt.bar(range(evr.shape[0]), evr)\n",
    "plt.title(\"Variance by components\")\n",
    "plt.xlabel(\"Components\")\n",
    "plt.ylabel(\"Variance\")\n",
    "plt.show()"
   ]
  },
  {
   "cell_type": "markdown",
   "id": "cb15ec0c",
   "metadata": {},
   "source": [
    "Теперь видим, что не только первые две компоненты дают вклад. Это происходит потому, что переменные с большим диапазоном значений не забивают остальные.\n",
    "\n",
    "Правда, теперь и значимого спада в доле объясняемой дисперсии мы долго не видим, поэтому встает вопрос: как выбрать число компонент так, чтобы взять нужное и отсечь ненужное?"
   ]
  },
  {
   "cell_type": "markdown",
   "id": "88ba3eae",
   "metadata": {},
   "source": [
    "### Как выбирать оптимальное число  компонент\n",
    "\n",
    "\n"
   ]
  },
  {
   "cell_type": "markdown",
   "id": "079a501f",
   "metadata": {},
   "source": [
    "Скачаем датасет, на котором польза от понижения размерности видна более явно.\n",
    "\n",
    "В данном датасете хранятся признаки (нам сейчас не важно, какие), характеризующие примерно 8000 клеток крови.\n",
    "\n"
   ]
  },
  {
   "cell_type": "code",
   "execution_count": null,
   "id": "0e50516f",
   "metadata": {},
   "outputs": [],
   "source": [
    "# 1. Reading in the scRNAseq data.\n",
    "scRNAseq = pd.read_csv(\n",
    "    \"https://edunet.kea.su/repo/EduNet-web_dependencies/datasets/scRNAseq_CITEseq.txt\",\n",
    "    sep=\"\\t\",\n",
    ")\n",
    "\n",
    "x_scRNAseq = scRNAseq.iloc[:, 0:-1]  # features\n",
    "y_scRNAseq = scRNAseq.iloc[:, -1]  # labels\n",
    "\n",
    "# 2. taking the log of the data.\n",
    "x_scRNAseq = np.log(x_scRNAseq + 1)\n",
    "print(f\"dataset shape: {scRNAseq.shape}\")"
   ]
  },
  {
   "cell_type": "markdown",
   "id": "c8879c30",
   "metadata": {},
   "source": [
    "Подбирать число компонент можно по-разному"
   ]
  },
  {
   "cell_type": "markdown",
   "id": "74881fd6",
   "metadata": {},
   "source": [
    "#### По доле объясняемой дисперсии"
   ]
  },
  {
   "cell_type": "markdown",
   "id": "57d3073e",
   "metadata": {},
   "source": [
    "Часто берут минимальное число компонент, которое объясняет 95% дисперсии. Подход, очевидно, порочный (а почему не 90% или 99%), зато быстрый."
   ]
  },
  {
   "cell_type": "code",
   "execution_count": null,
   "id": "8e79c1c1",
   "metadata": {},
   "outputs": [],
   "source": [
    "# 1. We're calculating the explained variance ratio for\n",
    "#    each component of the PCA.\n",
    "# 2. We're plotting these ratios in a chart.\n",
    "\n",
    "pca = PCA(n_components=x_train.shape[1])\n",
    "pca.fit(x_train)\n",
    "\n",
    "ths = 0.95\n",
    "total_explained = np.cumsum(pca.explained_variance_ratio_)\n",
    "\n",
    "plt.figure(figsize=(6, 6))\n",
    "\n",
    "plt.plot(np.arange(1, total_explained.shape[0] + 1), total_explained)\n",
    "plt.axhline(xmin=0, xmax=1000, y=ths, c=\"red\", ls=\"--\")\n",
    "chosen_number = np.where(total_explained >= 0.95)[0][0] + 1\n",
    "plt.axvline(x=chosen_number, ymin=0, ymax=ths, c=\"red\", ls=\"--\")\n",
    "plt.xticks(np.arange(1, x_train.shape[1]))\n",
    "plt.ylabel(\"total sum of  proportion  of the explained variance\")\n",
    "plt.xlabel(\"Num of components\", size=14)\n",
    "\n",
    "plt.show()"
   ]
  },
  {
   "cell_type": "markdown",
   "id": "8b5eff01",
   "metadata": {},
   "source": [
    "Взяли 15 компонент. Почему именно столько? Почему не 16?\n",
    "\n",
    "Непонятно. Просто, ибо поставили такой порог. Могли поставить и другой, и тогда бы взяли больше или меньше компонент.\n"
   ]
  },
  {
   "cell_type": "markdown",
   "id": "64e5ae53",
   "metadata": {},
   "source": [
    "#### По правилу локтя"
   ]
  },
  {
   "cell_type": "markdown",
   "id": "f56435e5",
   "metadata": {},
   "source": [
    "Можно построить график, отражающий, сколько дисперсии объясняет каждая из компонент, и на основе графика выбрать нужное число компонент.\n",
    "\n",
    "Идея подхода простая: переход от компонент, объясняющих что-то важное в данных, к компонентам, объясняющим шум, должен сопровождаться резким снижением доли объясняемой дисперсии.\n",
    "\n",
    "Или можно сказать иначе: выбранные нами компоненты должны быть устойчивы к добавлению шума в данные. Если мы нашли резкий скачок в доле объясняемой дисперсии, то маловероятно, что добавление шума этот скачок нивелирует — наш способ отбора компонент устойчив к шуму.\n",
    "\n",
    "В идеальном случае график будет выглядеть как-то так. Но на практике таких склонов может не быть, а может быть несколько."
   ]
  },
  {
   "cell_type": "markdown",
   "id": "c979ad83",
   "metadata": {},
   "source": [
    "<img src =\"https://edunet.kea.su/repo/EduNet-content/L04/out/elbow_rule.png\" width=\"600\">"
   ]
  },
  {
   "cell_type": "code",
   "execution_count": null,
   "id": "1ab85c3a",
   "metadata": {},
   "outputs": [],
   "source": [
    "# 1. First, we create a PCA object that you fit to the training data.\n",
    "# 2. Then, we create a a scatter plot where we plot the explained\n",
    "#    variance ratio as a function of the number of PCA components.\n",
    "# 3. We also plot the explained variance ratio as a function of the\n",
    "#    number of components, but with a smooth curve.\n",
    "# 4. Finally, we show the plot.\n",
    "\n",
    "n_comp = x_train.shape[1]\n",
    "\n",
    "explained = pca.explained_variance_ratio_\n",
    "\n",
    "plt.figure(figsize=(6, 6))\n",
    "plt.scatter(np.arange(1, n_comp + 1), explained)\n",
    "plt.plot(np.arange(1, n_comp + 1), explained)\n",
    "plt.title(\"Dependence of  variance on the number of components\", size=14)\n",
    "plt.xlabel(\"Num of components\", size=14)\n",
    "plt.ylabel(\"proportion of the explained variance\", size=14)\n",
    "plt.xticks(np.arange(1, x_train.shape[1]))\n",
    "plt.show()"
   ]
  },
  {
   "cell_type": "markdown",
   "id": "ea658767",
   "metadata": {},
   "source": [
    "Понять, какое число компонент стоит выбрать, из такого графика сложно. Наверно, стоит выбрать последний склон — в нашем случае мы возьмем первые 12 компонент.\n",
    "\n"
   ]
  },
  {
   "cell_type": "markdown",
   "id": "877380a2",
   "metadata": {},
   "source": [
    "Можно применить критерий локтя и к нашему изначальному графику с суммарной долей объясненной дисперсии (в таком случае ожидаем скачок). Но там скачок также трудно обнаружить."
   ]
  },
  {
   "cell_type": "markdown",
   "id": "3ba1e13e",
   "metadata": {},
   "source": [
    "#### Перестановочный метод"
   ]
  },
  {
   "cell_type": "markdown",
   "id": "315ce345",
   "metadata": {},
   "source": [
    "Еще одним способом выбрать число главных компонент является перестановочный метод. Он заключается в следующем:\n",
    "\n",
    " 1) Перемешиваем значения каждого признака.\n",
    "\n",
    " 2)  Получаем матрицу признаков, которая не содержит никакой информации об исходном многообразии.\n",
    "\n",
    " 3) Делаем PCA.\n",
    "\n",
    " 4) Любая explained variance — просто из-за природы данных.\n",
    "\n",
    " 5) Делаем так 100-1000 раз.\n",
    "\n",
    " 6) Пусть на реальных данных k-я компонента объясняет\n",
    "n% дисперсии.\n",
    "\n",
    " 7) Смотрим на распределение доли дисперсии,\n",
    "объясняемой k-компонентой для случайных данных\n",
    "(полученных перемешиванием).\n",
    "\n",
    " 8) Можем сравнить и принять решение, объясняет ли k-я\n",
    "компонента что-то реальное или является просто шумом."
   ]
  },
  {
   "cell_type": "code",
   "execution_count": null,
   "id": "a803c3e6",
   "metadata": {},
   "outputs": [],
   "source": [
    "from tqdm import tqdm\n",
    "from scipy.stats import norm\n",
    "\n",
    "\n",
    "def shuffle_dataset(dataset):\n",
    "    random_data = {}\n",
    "    for col in dataset.columns:\n",
    "        random_data[col] = np.random.permutation(dataset.loc[:, col].values)\n",
    "    random_data = pd.DataFrame(random_data)\n",
    "    return random_data\n",
    "\n",
    "\n",
    "def get_variance_by_chance(dataset, n_replics, n_components):\n",
    "    variance_explained_by_chance = np.zeros((n_replics, n_components))\n",
    "    for i in tqdm(range(n_replics)):\n",
    "        random_data = shuffle_dataset(dataset)\n",
    "        random_pca = PCA(n_components=n_components)\n",
    "        random_pca.fit(random_data)\n",
    "        variance_explained_by_chance[i, :] = random_pca.explained_variance_ratio_\n",
    "    return variance_explained_by_chance\n",
    "\n",
    "\n",
    "def get_pc_variance(dataset, n_components):\n",
    "    pca = PCA(n_components=n_components)\n",
    "    pca.fit(dataset)\n",
    "    return pca.explained_variance_ratio_\n",
    "\n",
    "\n",
    "def plot_mean_and_CI(\n",
    "    ax,\n",
    "    values,\n",
    "    label,\n",
    "    ci_level=0.95,\n",
    "    alpha_transparency=0.5,\n",
    "    color_mean=None,\n",
    "    color_shading=None,\n",
    "):\n",
    "    mean = values.mean(axis=0)\n",
    "\n",
    "    std = values.std(axis=0)\n",
    "    n = values.shape[1]\n",
    "    se = std / np.sqrt(n)\n",
    "\n",
    "    q_alpha = (1 - ci_level) / 2\n",
    "    ci_num = np.abs(norm.ppf(q_alpha, loc=0, scale=1))\n",
    "\n",
    "    lb = mean - ci_num * se\n",
    "    ub = mean + ci_num * se\n",
    "\n",
    "    # plot the shaded range of the confidence intervals\n",
    "    ax.fill_between(\n",
    "        range(mean.shape[0]), ub, lb, color=color_shading, alpha=alpha_transparency\n",
    "    )\n",
    "    # plot the mean on top\n",
    "    ax.plot(mean, c=color_mean, lw=3, label=label)\n",
    "\n",
    "\n",
    "def plot_explained_variance(ax, variance):\n",
    "    ax.plot(variance, label=\"real\", lw=3)\n",
    "    ax.scatter(np.arange(0, variance.shape[0]), variance)\n",
    "\n",
    "\n",
    "def plot_variance_by_change(ax, variance_by_chance):\n",
    "    plot_mean_and_CI(\n",
    "        ax, variance_by_chance, label=\"chance\", color_mean=\"red\", color_shading=\"red\"\n",
    "    )\n",
    "\n",
    "\n",
    "def calc_permutat_pval(real_values, permut_values, eps=None):\n",
    "    eps = eps or (1 / (permut_values.shape[0] * 10))\n",
    "\n",
    "    p_values = np.zeros_like(real_values)\n",
    "    for i in range(0, p_values.shape[0], 1):\n",
    "        p_values[i] = (permut_values[:, i] >= real_values[i]).mean() + eps\n",
    "    return p_values\n",
    "\n",
    "\n",
    "def plot_explained_vs_chance(\n",
    "    ax, explained_variance, variance_by_chance, dataset_name, step=1\n",
    "):\n",
    "    plot_explained_variance(ax, explained_variance)\n",
    "    plot_variance_by_change(ax, variance_by_chance)\n",
    "\n",
    "    ax.set_title(f\"PCA {dataset_name}\", size=25)\n",
    "    ax.set_xlabel(\"Component number\", size=15)\n",
    "    ax.set_ylabel(\"Explained variance ration\", size=15)\n",
    "    ax.set_xticks(np.arange(0, explained_variance.shape[0], step))\n",
    "    ax.set_xticklabels(np.arange(1, explained_variance.shape[0] + 1, step), size=10)\n",
    "\n",
    "    ax.tick_params(labelsize=10, size=8)\n",
    "    ax.set_ylim(0, explained_variance[0] + 0.1)\n",
    "    ax.legend(fontsize=15)\n",
    "\n",
    "\n",
    "def plot_pval_plot(ax, p_values, dataset_name, alpha_level=0.05, logscale=True, step=1):\n",
    "    if logscale:\n",
    "        p_values = -np.log10(p_values)\n",
    "        alpha_level = -np.log10(alpha_level)\n",
    "\n",
    "    ax.set_title(f\"PC significance, {dataset_name}\", size=25)\n",
    "    ax.plot(p_values, lw=3)\n",
    "    ax.scatter(np.arange(0, p_values.shape[0]), p_values, lw=3)\n",
    "\n",
    "    ax.set_xlabel(\"Component number\", size=15)\n",
    "    ax.set_ylabel(\"-log(pvalue + eps)\", size=15)\n",
    "    ax.set_xticks(np.arange(0, p_values.shape[0], step))\n",
    "\n",
    "    ax.set_xticklabels(labels=np.arange(1, p_values.shape[0] + 1, step), size=10)\n",
    "    ax.tick_params(labelsize=10, size=8)\n",
    "\n",
    "    ax.hlines(\n",
    "        y=alpha_level,\n",
    "        xmin=0,\n",
    "        xmax=p_values.shape[0],\n",
    "        color=\"red\",\n",
    "        linestyles=\"dashed\",\n",
    "        lw=3,\n",
    "    )\n",
    "\n",
    "\n",
    "def pca_analysis(ax1, ax2, dataset, title, n_components=None, n_replics=1000, step=1):\n",
    "    n_components = n_components or dataset.shape[1]\n",
    "    explained_variance = get_pc_variance(dataset, n_components)\n",
    "    variance_by_chance = get_variance_by_chance(dataset, n_replics, n_components)\n",
    "    p_values = calc_permutat_pval(explained_variance, variance_by_chance)\n",
    "    plot_explained_vs_chance(ax1, explained_variance, variance_by_chance, title)\n",
    "    plot_pval_plot(ax2, p_values, title)"
   ]
  },
  {
   "cell_type": "code",
   "execution_count": null,
   "id": "e35ff25e",
   "metadata": {},
   "outputs": [],
   "source": [
    "np.random.seed(42)\n",
    "f, (ax1, ax2) = plt.subplots(2, 1)\n",
    "f.set_figheight(7)\n",
    "f.set_figwidth(7)\n",
    "plt.subplots_adjust(top=1.7)\n",
    "pca_analysis(ax1, ax2, pd.DataFrame(x_train), \"Titanic\", n_replics=10, n_components=10)"
   ]
  },
  {
   "cell_type": "markdown",
   "id": "376b166e",
   "metadata": {},
   "source": [
    "### Проблемы  PCA\n",
    "\n",
    "\n"
   ]
  },
  {
   "cell_type": "markdown",
   "id": "db37e1ff",
   "metadata": {},
   "source": [
    "##### Интересное направление в данных может не совпадать с направлением максимальной дисперсии.\n",
    "\n",
    "Рассмотрим случай выборки, которая сгенерирована из двух вытянутых нормальных распределений, чьи основные оси неортогональны друг другу:"
   ]
  },
  {
   "cell_type": "markdown",
   "id": "0e13a965",
   "metadata": {},
   "source": [
    "<img src=\"https://edunet.kea.su/repo/EduNet-content/L04/out/problem_pca_2.png\" width=\"600\"/>"
   ]
  },
  {
   "cell_type": "markdown",
   "id": "95fb85bc",
   "metadata": {},
   "source": [
    "##### Выбранные оси могут вообще не подходить для нашей задачи\n",
    "\n",
    "\n",
    "В примере ниже дисперсии не отражают интересующих нас направлений в данных:"
   ]
  },
  {
   "cell_type": "markdown",
   "id": "f6179cb1",
   "metadata": {},
   "source": [
    "<img src=\"https://edunet.kea.su/repo/EduNet-content/L04/out/problem_pca_1.png\" width=\"600\"/>"
   ]
  },
  {
   "cell_type": "markdown",
   "id": "992cd621",
   "metadata": {},
   "source": [
    "Очевидно, что в данном случае метод главных компонент будет считать вертикальную компоненту более значимой для описания набора данных, чем горизонтальную.\n",
    "\n",
    "Но, например, в случае, когда данные из левого и правого кластера относятся к разным классам, для их линейной разделимости вертикальная компонента является шумовой. Несмотря на это, её метод главных компонент никогда шумовой не признает, и есть вероятность, что отбор признаков с его помощью выкинет из ваших данных значимые для решаемой вами задачи компоненты просто потому, что вдоль них значения имеют низкую дисперсию.\n",
    "\n",
    "Справляться с такими ситуациями могут некоторые другие методы уменьшения размерности данных, например, метод независимых компонент (Independent Component Analysis, ICA)."
   ]
  },
  {
   "cell_type": "markdown",
   "id": "dab24f7e",
   "metadata": {},
   "source": [
    "#### Недостатки линейного PCA"
   ]
  },
  {
   "cell_type": "markdown",
   "id": "e5f7daf2",
   "metadata": {},
   "source": [
    "Как мы увидели в предыдущих примерах, обычный PCA далеко не всегда работает хорошо. В частности, могут быть ситуации, когда построенная PCA проекция не дает хорошего разбиения объектов на группы. Для набора картинок с написанными от руки цифрами  MNIST, PCA даст такой результат:"
   ]
  },
  {
   "cell_type": "markdown",
   "id": "890d1b03",
   "metadata": {},
   "source": [
    "<center><img src=\"https://edunet.kea.su/repo/EduNet-content/L04/out/pca_tsne_umap_on_mnist.png\" width=\"1000\"/></center>"
   ]
  },
  {
   "cell_type": "markdown",
   "id": "e217f351",
   "metadata": {},
   "source": [
    "Также бывают ситуации, когда оптимально спроецировать не на некоторую плоскость, а на многообразие (кривая плоскость), как показано на картинке ниже."
   ]
  },
  {
   "cell_type": "markdown",
   "id": "c6f9c9e9",
   "metadata": {},
   "source": [
    "<img src=\"https://edunet.kea.su/repo/EduNet-content/L04/out/s_manifold.png\" width=\"650\"/>"
   ]
  },
  {
   "cell_type": "markdown",
   "id": "bd948483",
   "metadata": {},
   "source": [
    "В данном случае оптимально спроецировать на S-образную кривую.\n",
    "\n",
    "В связи с вышеописанными случаями, ниже мы рассмотрим более сильные методы."
   ]
  },
  {
   "cell_type": "markdown",
   "id": "8eae8845",
   "metadata": {},
   "source": [
    "## Kernel PCA Ядровой (нелинейный) метод главных компонент"
   ]
  },
  {
   "cell_type": "markdown",
   "id": "b254ea1f",
   "metadata": {},
   "source": [
    "Как уже упоминалось, иногда невозможно захватить всю информацию линейной проекцией, хотя кривая поверхность с такой же размерностью это позволяет сделать. Одним из подходов к решению данной проблемы является задача перевода признаков в нелинейное пространство."
   ]
  },
  {
   "cell_type": "markdown",
   "id": "1e93ec02",
   "metadata": {},
   "source": [
    "### Kernel trick"
   ]
  },
  {
   "cell_type": "markdown",
   "id": "9e83c84d",
   "metadata": {},
   "source": [
    "Kernel Trick избегает явного перевода наших признаков в пространство новых признаков, ведь пространства бывают очень большие, а нам бы хотелось сэкономить память компьютера.\n",
    "Оказывается, для PCA не важны собственно признаки объектов, а важны скалярные произведения между объектами.\n",
    "\n",
    "И это скалярное произведением позволяет подсчитывать напрямую функция $k(\\mathbf {x} ,\\mathbf {x'})$, которую часто называют *ядром или ядерной функцией (kernel, kernel function)*"
   ]
  },
  {
   "cell_type": "markdown",
   "id": "437acde1",
   "metadata": {},
   "source": [
    "Бывают разные ядра, которые считают скалярное произведение в разных пространствах\n",
    "\n",
    "\n",
    "* $\\large \\displaystyle k(x_i, x_j) = \\frac{1}{z} e^{-\\frac{h(x_i, x_j)^2}{h}}$ — радиальная базисная функция (RBF)\n",
    "* $k(x_i, x_j) = (<x_i, x_j> + c)^d; c, d \\in \\mathbb{R}$ — полиномиальное ядро\n",
    "* $k(x_i, x_j) = \\sigma((<x_i, x_j>)$ — ядро с функцией активации\n"
   ]
  },
  {
   "cell_type": "markdown",
   "id": "75d10487",
   "metadata": {},
   "source": [
    "### Пример"
   ]
  },
  {
   "cell_type": "code",
   "execution_count": null,
   "id": "ea11c129",
   "metadata": {},
   "outputs": [],
   "source": [
    "# https://scikit-learn.org/stable/auto_examples/decomposition/plot_kernel_pca.html\n",
    "from sklearn.datasets import make_circles\n",
    "\n",
    "np.random.seed(42)\n",
    "\n",
    "# 1. Make_circles creates a data set of 400 points that form concentric circles with a gap of 50 points.\n",
    "# 2. The factor parameter controls the size of the inner circles.\n",
    "# 3. The noise parameter controls the amount of noise added to the data.\n",
    "# 4. The result is a 360-feature dataset of concentric circles with gaps.\n",
    "\n",
    "x, y = make_circles(n_samples=400, factor=0.3, noise=0.05, random_state=42)"
   ]
  },
  {
   "cell_type": "markdown",
   "id": "3aec0e3b",
   "metadata": {},
   "source": [
    "Возьмем две концентрические окружности"
   ]
  },
  {
   "cell_type": "code",
   "execution_count": null,
   "id": "1e871e69",
   "metadata": {},
   "outputs": [],
   "source": [
    "plt.figure(figsize=(5, 5))\n",
    "\n",
    "plt.title(\"Original space\")\n",
    "reds = y == 0\n",
    "blues = y == 1\n",
    "\n",
    "plt.scatter(x[reds, 0], x[reds, 1], c=\"red\", s=20, edgecolor=\"k\")\n",
    "plt.scatter(x[blues, 0], x[blues, 1], c=\"blue\", s=20, edgecolor=\"k\")\n",
    "plt.xlabel(\"$x_1$\")\n",
    "plt.ylabel(\"$x_2$\")\n",
    "plt.show()"
   ]
  },
  {
   "cell_type": "markdown",
   "id": "52c6c6a6",
   "metadata": {},
   "source": [
    "Обычный PCA не может их разделить"
   ]
  },
  {
   "cell_type": "code",
   "execution_count": null,
   "id": "72ff8970",
   "metadata": {},
   "outputs": [],
   "source": [
    "pca = PCA()\n",
    "x_pca = pca.fit_transform(x)\n",
    "plt.figure(figsize=(5, 5))\n",
    "plt.scatter(x_pca[reds, 0], x_pca[reds, 1], c=\"red\", s=20, edgecolor=\"k\")\n",
    "plt.scatter(x_pca[blues, 0], x_pca[blues, 1], c=\"blue\", s=20, edgecolor=\"k\")\n",
    "plt.title(\"Projection by PCA\")\n",
    "plt.xlabel(\"1st principal component\")\n",
    "plt.ylabel(\"2nd component\")\n",
    "plt.show()"
   ]
  },
  {
   "cell_type": "markdown",
   "id": "5011e0da",
   "metadata": {},
   "source": [
    "А вот KernelPCA  справляется"
   ]
  },
  {
   "cell_type": "code",
   "execution_count": null,
   "id": "9b46e7e6",
   "metadata": {},
   "outputs": [],
   "source": [
    "from sklearn.decomposition import KernelPCA\n",
    "\n",
    "# 1. Create a PCA object to perform the PCA transformation\n",
    "#    using the RBF kernel (specified using kernel=\"rbf\").\n",
    "#    Setting fit_inverse_transform=True. This will make the object use the\n",
    "#    transformed data from the first step when transforming new, unseen data points.\n",
    "# 2. Let the PCA object fit and transform the data,\n",
    "#    then get the transformed data back.\n",
    "\n",
    "kpca = KernelPCA(kernel=\"rbf\", fit_inverse_transform=True, gamma=10)\n",
    "x_kpca = kpca.fit_transform(x)\n",
    "\n",
    "plt.figure(figsize=(5, 5))\n",
    "plt.scatter(x_kpca[reds, 0], x_kpca[reds, 1], c=\"red\", s=20, edgecolor=\"k\")\n",
    "plt.scatter(x_kpca[blues, 0], x_kpca[blues, 1], c=\"blue\", s=20, edgecolor=\"k\")\n",
    "plt.title(\"Projection by KPCA\")\n",
    "plt.xlabel(r\"1st principal component in space induced by $\\phi$\")\n",
    "plt.ylabel(\"2nd component\")\n",
    "plt.show()"
   ]
  },
  {
   "cell_type": "markdown",
   "id": "3bc5b0bc",
   "metadata": {},
   "source": [
    "Хотя, конечно, и восстанавливать он будет не идеально: работал-то он по факту в пространстве бОльшей размерности и оси строил там."
   ]
  },
  {
   "cell_type": "code",
   "execution_count": null,
   "id": "88270db8",
   "metadata": {},
   "outputs": [],
   "source": [
    "# 1. The 'kpca' variable is a KernelPCA object that is initialized with 'n_components' set to 2.\n",
    "# 2. Then it applies the kernel function specified in the 'kernel' variable  and then transforms the data based on the kernel, and gets the transformed data.\n",
    "# 3. Then it returns the transformed data.\n",
    "# 4. Then we get the inverse transformation by simply calling \"kpca.inverse_transform(x_kpca)\"\n",
    "# 5. Finally, we plot the transformed data.\n",
    "\n",
    "x_back = kpca.inverse_transform(x_kpca)\n",
    "plt.figure(figsize=(5, 5))\n",
    "plt.scatter(x_back[reds, 0], x_back[reds, 1], c=\"red\", s=20, edgecolor=\"k\")\n",
    "plt.scatter(x_back[blues, 0], x_back[blues, 1], c=\"blue\", s=20, edgecolor=\"k\")\n",
    "plt.title(\"Original space after inverse transform\")\n",
    "plt.xlabel(\"$x_1$\")\n",
    "plt.ylabel(\"$x_2$\")\n",
    "\n",
    "plt.tight_layout()\n",
    "plt.show()"
   ]
  },
  {
   "cell_type": "markdown",
   "id": "7d0e5edc",
   "metadata": {},
   "source": [
    "Kernel PCA довольно чувствителен к выбору ядра.\n",
    "\n",
    "К примеру, для данных, расположенных на трех окружностях:"
   ]
  },
  {
   "cell_type": "markdown",
   "id": "367a991d",
   "metadata": {},
   "source": [
    "<img src=\"https://edunet.kea.su/repo/EduNet-content/L04/out/kernel_pca_three_circles.png\" width=\"260\"/>"
   ]
  },
  {
   "cell_type": "markdown",
   "id": "6270a2cb",
   "metadata": {},
   "source": [
    "в зависимости от выбора ядра мы будем получать совершенно разные отображение в спрямляющее пространство:"
   ]
  },
  {
   "cell_type": "markdown",
   "id": "00b85662",
   "metadata": {},
   "source": [
    "<img src=\"https://edunet.kea.su/repo/EduNet-content/L04/out/kernel_pca_different_kernels.png\" width=\"600\"/>"
   ]
  },
  {
   "cell_type": "markdown",
   "id": "89870683",
   "metadata": {},
   "source": [
    "## Методы, основанные на сохранении расстояний"
   ]
  },
  {
   "cell_type": "markdown",
   "id": "3c6ae0bd",
   "metadata": {},
   "source": [
    "Существуют и другие методы понижения размерности в данных. К примеру, t-SNE и UMAP.\n",
    "\n",
    "Они решают немного иначе поставленную задачу: из измерения новой размерности мы не должны легко переходить в старое измерение. Взамен этого требуется, чтобы сохранялись расстояния между объектами. Причем, особое внимание уделяется близким расстояниям. Далекие же могут не сохраняться."
   ]
  },
  {
   "cell_type": "markdown",
   "id": "b6b143b2",
   "metadata": {},
   "source": [
    "## t-SNE (t-distributed stochastic neighbor embedding)"
   ]
  },
  {
   "cell_type": "markdown",
   "id": "167d4e1b",
   "metadata": {},
   "source": [
    "Идея состоит в том, чтобы не напрямую максимизировать дисперсию, а найти такое пространство, в котором расстояние между объектами будет сохраняться или по крайне мере не сильно меняться.\n",
    "\n",
    "При этом будем больше беспокоиться о расстоянии между близкими объектами, нежели о расстоянии между далекими."
   ]
  },
  {
   "cell_type": "markdown",
   "id": "41441b80",
   "metadata": {},
   "source": [
    "### Описываем расстояния в исходном пространстве"
   ]
  },
  {
   "cell_type": "markdown",
   "id": "0442578a",
   "metadata": {},
   "source": [
    "Для простоты будем в качестве исходного пространства рассматривать 2-мерное"
   ]
  },
  {
   "cell_type": "markdown",
   "id": "1981350c",
   "metadata": {},
   "source": [
    "1. Считаем все расстояния от заданной точки до остальных:\n",
    "\n",
    "<img src=\"https://edunet.kea.su/repo/EduNet-content/L04/out/tsne_compute_distance_in_source_space_step1.png\" width=\"200\">"
   ]
  },
  {
   "cell_type": "markdown",
   "id": "9a36a80c",
   "metadata": {},
   "source": [
    "2. Откладываем расстояния на прямой, предполагая, что это координаты $x$ точек, лежащих на графике плотности нормального распределения. И в качестве ненормированных расстояний используем координаты $y$ этих точек:\n",
    "\n",
    "<img src=\"https://edunet.kea.su/repo/EduNet-content/L04/out/tsne_compute_distance_in_source_space_step2.png\" width=\"300\">"
   ]
  },
  {
   "cell_type": "markdown",
   "id": "1a9441ca",
   "metadata": {},
   "source": [
    "Далее эти ненормированные расстояния нормируем на их сумму, чтобы для каждой точки похожести несли примерно одинаковый смысл. В итоге получается такая формула:\n",
    "$$\\large p_{j\\mid i}={\\frac {\\exp(-\\lVert \\mathbf{x}_{i}-\\mathbf {x}_{j}\\rVert^{2}/2\\sigma_{i}^{2})}{\\sum_{k\\neq i}\\exp(-\\lVert \\mathbf{x}_{i}-\\mathbf{x}_{k}\\rVert^{2}/2\\sigma_{i}^{2})}}$$\n",
    "\n",
    "\n",
    "Стандартное отклонение будет различным для каждой точки. Оно подбирается бинарным поиском так, чтобы точки в областях с большей плотностью имели меньшую дисперсию. Для этого используется параметр perplexity: чем он больше, тем более далеким соседям уделяется внимание (стандартные отклонения становятся в целом больше).\n"
   ]
  },
  {
   "cell_type": "markdown",
   "id": "d3450d84",
   "metadata": {},
   "source": [
    "Чтобы получить симметричные расстояния $p_{ij}$, их считают по следующей\n",
    "формуле:\n",
    "\n",
    "$$p_{ij} = \\frac{p_{j\\mid i} + p_{i\\mid j}}{2N}$$\n",
    "\n",
    "В итоге получаем матрицу расстояний следующего вида:"
   ]
  },
  {
   "cell_type": "markdown",
   "id": "8401c6ce",
   "metadata": {},
   "source": [
    "<img src=\"https://edunet.kea.su/repo/EduNet-content/L04/out/tsne_get_distance_matrix.png\" width=\"650\"/>"
   ]
  },
  {
   "cell_type": "markdown",
   "id": "e2661050",
   "metadata": {},
   "source": [
    "### Описываем расстояния в пространстве низкой размерности"
   ]
  },
  {
   "cell_type": "markdown",
   "id": "5b52a537",
   "metadata": {},
   "source": [
    "Обычно в случае t-SNE используют пространства двумерные и трехмерные. Это вызвано во многом скоростью работы метода и тем, что он преимущественно используется для визуализации.\n",
    "\n",
    "Для простоты будем в качестве пространства низкой размерности рассматривать одномерное.\n",
    "\n",
    "Расположим точки, соответствующие точкам из исходного пространства, случайным образом в одномерном пространстве."
   ]
  },
  {
   "cell_type": "markdown",
   "id": "b5d6da2a",
   "metadata": {},
   "source": [
    "<img src=\"https://edunet.kea.su/repo/EduNet-content/L04/out/tsne_points_in_one_dimensional_space.png\" width=\"350\"/>"
   ]
  },
  {
   "cell_type": "markdown",
   "id": "b7243439",
   "metadata": {},
   "source": [
    "Точно так же будем считать расстояние между выбранной точкой и остальными и использовать эти расстояния не в качестве $x$, а в качестве $y$, и, как следствие, similarity, будем использовать не нормальное распределение, а распределение Стьюдента."
   ]
  },
  {
   "cell_type": "markdown",
   "id": "9e9fc654",
   "metadata": {},
   "source": [
    "<img src=\"https://edunet.kea.su/repo/EduNet-content/L04/out/tsne_compute_similarity.png\" width=\"350\"/>"
   ]
  },
  {
   "cell_type": "markdown",
   "id": "24a570ec",
   "metadata": {},
   "source": [
    "Почему?\n",
    "Оно более \"тяжелое\" в хвостах и поэтому дает возможность больше внимания уделять далеким точкам. Это позволяет компенсировать дисбаланс в распределении расстояний в пространстве большей и меньшей размерностей. Без этого точки у нас будут \"липнуть\" друг к другу.\n",
    "\n",
    "В итоге мы получили две матрицы расстояний: в исходном и в новом пространстве:"
   ]
  },
  {
   "cell_type": "markdown",
   "id": "c0ecc268",
   "metadata": {},
   "source": [
    "<img src=\"https://edunet.kea.su/repo/EduNet-content/L04/out/tsne_two_matrix_distance.png\" width=\"600\"/>"
   ]
  },
  {
   "cell_type": "markdown",
   "id": "7e9561c4",
   "metadata": {},
   "source": [
    "### Оптимизируем низкоразмерное представление"
   ]
  },
  {
   "cell_type": "markdown",
   "id": "38bf8ffe",
   "metadata": {},
   "source": [
    "Они абсолютно друг на друга не похожи, что логично: пока что наша проекция в новое пространство абсолютно случайная. Надо как-то править представление в новом пространстве. Именно для этого авторы и использовали плотности и прочее — чтобы задать теперь хорошую cost-функцию, которую затем нужно минимизировать.\n",
    "\n",
    "Cost-функцией будет\n",
    "$$Cost = KL(P||Q) = \\sum_{i \\neq j}{p_{ij} log \\frac{p_{ij}}{q_{ij}}}$$\n",
    "\n",
    "Минимизируем это градиентным спуском."
   ]
  },
  {
   "cell_type": "markdown",
   "id": "fb5b7f6c",
   "metadata": {},
   "source": [
    "Фактически, такое требование минимизировать cost-функцию говорит следующее: я хочу получить такое представление, чтобы объекты, которые находились в исходном пространстве близко, **вероятно**, находились и в представлении близко, а объекты, которые находились далеко — далеко."
   ]
  },
  {
   "cell_type": "markdown",
   "id": "20fad30c",
   "metadata": {},
   "source": [
    "### Пример применения"
   ]
  },
  {
   "cell_type": "markdown",
   "id": "2d2d49de",
   "metadata": {},
   "source": [
    "Для того, чтобы t-SNE сходился лучше и определеннее, в качестве изначальных координат точек в новом пространстве можно использовать не случайный шум, а первые две компоненты PCA.\n",
    "\n",
    "Преследуем две цели: уменьшить время работы t-SNE (который работает очень медленно) и убрать эффект шума на t-SNE — он может на него реагировать, особенно при условии, что схождения к минимуму мы можем не дождаться.\n",
    "\n"
   ]
  },
  {
   "cell_type": "code",
   "execution_count": null,
   "id": "f51022e7",
   "metadata": {},
   "outputs": [],
   "source": [
    "import sklearn.manifold\n",
    "\n",
    "# 1. Firstly we reduce the dimensionality of the data to 6 features using PCA.\n",
    "# 2. Then we take the first two PCA components and use this\n",
    "#    as an initial approximation for the T-SNE algorithm.\n",
    "# 3. Then we fit T-SNE on the data and plot the first two dimensions\n",
    "#    of the T-SNE output, which are represented in green.\n",
    "# 4. The visualization makes clear that there are distinct clusters in our data\n",
    "\n",
    "x_reduced = PCA(n_components=6).fit_transform(x_scRNAseq)\n",
    "model = sklearn.manifold.TSNE(\n",
    "    n_components=2,\n",
    "    init=x_reduced[:, 0:2],  # often use as a reasonable approximation\n",
    "    perplexity=40,  # important parameter\n",
    "    verbose=2,\n",
    "    learning_rate=\"auto\",\n",
    ")\n",
    "\n",
    "manifold = model.fit_transform(x_reduced)\n",
    "\n",
    "plt.figure(figsize=(10, 5))\n",
    "plt.scatter(manifold[:, 0], manifold[:, 1], c=y_scRNAseq, cmap=\"tab20\", s=20)\n",
    "plt.title(\"TSNE: scRNAseq\", fontsize=25)\n",
    "plt.xlabel(\"TSNE1\", fontsize=22)\n",
    "plt.ylabel(\"TSNE2\", fontsize=22)\n",
    "plt.show()"
   ]
  },
  {
   "cell_type": "markdown",
   "id": "6d3a8e18",
   "metadata": {},
   "source": [
    "\n",
    "\n",
    "И покрасим по разметке, которая нам известна из эксперимента. Видим, что разделение очень хорошее"
   ]
  },
  {
   "cell_type": "markdown",
   "id": "2fe5a0e5",
   "metadata": {},
   "source": [
    "### Важные параметры t-SNE\n",
    "\n"
   ]
  },
  {
   "cell_type": "markdown",
   "id": "735db4c1",
   "metadata": {},
   "source": [
    "#### perplexity\n",
    "\n",
    "Определяет то, как подбирается стандартное отклонение для распределения расстояний для каждой точки. Чем больше **perplexity**, тем более глобально мы смотрим на структуру.\n"
   ]
  },
  {
   "cell_type": "markdown",
   "id": "841abc50",
   "metadata": {},
   "source": [
    "#### metric\n",
    "Как считаются расстояния между точками — **metric**. По умолчанию используется евклидово расстояние, но часто помогают и другие (например, косинусное)."
   ]
  },
  {
   "cell_type": "markdown",
   "id": "d229d661",
   "metadata": {},
   "source": [
    "#### learning_rate\n",
    "\n",
    "Шаг градиентного спуска, тоже влияет на полученное представление."
   ]
  },
  {
   "cell_type": "markdown",
   "id": "62dd458f",
   "metadata": {},
   "source": [
    "### Проблемы t-SNE\n",
    "\n",
    "\n"
   ]
  },
  {
   "cell_type": "markdown",
   "id": "0d828a81",
   "metadata": {},
   "source": [
    "Чтобы продемонстрировать проблемы t-SNE, берем оригинальные данные в 2D пространстве и добавляем к ним новые признаки, взятые из нормального шума.\n",
    "Далее пытаемся восстановить изначальную структуру."
   ]
  },
  {
   "cell_type": "markdown",
   "id": "6b9677ac",
   "metadata": {},
   "source": [
    "#### Стохастичность\n",
    "\n",
    "Низкоразмерное представление, которое вы получите, будет отличаться между запусками, если не зафиксировать **random seed**. Может отличаться довольно сильно."
   ]
  },
  {
   "cell_type": "markdown",
   "id": "94ec07a2",
   "metadata": {},
   "source": [
    "#### Добавление новых точек\n",
    "\n",
    "Если у вас появились новые данные, то добавить их на  представление, полученное при помощи t-SNE ранее — нетривиальная задача.\n",
    "Для разных областей есть свои \"подгоны\", но все это эвристика."
   ]
  },
  {
   "cell_type": "markdown",
   "id": "4fc6420d",
   "metadata": {},
   "source": [
    "#### Расстояния между кластерами точек могут ничего не значить (плохо сохраняются далекие расстояния)"
   ]
  },
  {
   "cell_type": "markdown",
   "id": "6d00519b",
   "metadata": {},
   "source": [
    "<img src=\"https://edunet.kea.su/repo/EduNet-content/L04/out/tsne_problems_distances_between_clusters_no_matter.png\" width=\"1000\"/>"
   ]
  },
  {
   "cell_type": "markdown",
   "id": "805205ac",
   "metadata": {},
   "source": [
    "#### Размеры кластеров ничего не значат"
   ]
  },
  {
   "cell_type": "markdown",
   "id": "775db627",
   "metadata": {},
   "source": [
    "<img src=\"https://edunet.kea.su/repo/EduNet-content/L04/out/tsne_problems_cluster_size_no_matter.png\" width=\"1000\"/>"
   ]
  },
  {
   "cell_type": "markdown",
   "id": "ee55a1f5",
   "metadata": {},
   "source": [
    "#### Можно увидеть артефактные кластеры"
   ]
  },
  {
   "cell_type": "markdown",
   "id": "cf0b9b48",
   "metadata": {},
   "source": [
    "<img src=\"https://edunet.kea.su/repo/EduNet-content/L04/out/tsne_problems_artifact_clusters.png\" width=\"1000\"/>"
   ]
  },
  {
   "cell_type": "markdown",
   "id": "85c09b39",
   "metadata": {},
   "source": [
    "#### Можно увидеть не ту структуру, которая по идее должна быть"
   ]
  },
  {
   "cell_type": "markdown",
   "id": "7096663d",
   "metadata": {},
   "source": [
    "<img src=\"https://edunet.kea.su/repo/EduNet-content/L04/out/tsne_problems_erroneous_structure.png\" width=\"1000\"/>"
   ]
  },
  {
   "cell_type": "markdown",
   "id": "45f1d3d4",
   "metadata": {},
   "source": [
    "[Подробнее](https://distill.pub/2016/misread-tsne/)"
   ]
  },
  {
   "cell_type": "markdown",
   "id": "b5829b03",
   "metadata": {},
   "source": [
    "#### Использование для кластеризации\n",
    "\n",
    "\n",
    "\n",
    "Из-за указанных  недостатков результат t-SNE НЕЛЬЗЯ использовать для кластеризации.\n",
    "\n"
   ]
  },
  {
   "cell_type": "markdown",
   "id": "fcbfc06b",
   "metadata": {},
   "source": [
    "[Хорошее видео про t-SNE](https://www.youtube.com/watch?v=NEaUSP4YerM)\n",
    "\n",
    "[Статья по применению t-SNE в биологии](https://www.nature.com/articles/s41467-019-13056-x)"
   ]
  },
  {
   "cell_type": "markdown",
   "id": "4884ba61",
   "metadata": {},
   "source": [
    "## UMAP\n",
    "\n"
   ]
  },
  {
   "cell_type": "markdown",
   "id": "6858201b",
   "metadata": {},
   "source": [
    "[UMAP](https://umap-learn.readthedocs.io/en/latest/how_umap_works.html) — uniform manifold approximation and projection. [Видео](https://www.youtube.com/watch?v=94ZMJ8tq1Wk)\n",
    "\n",
    "[Красивая демонстрация](https://pair-code.github.io/understanding-umap/)\n",
    "\n",
    "\n",
    "Использует похожую на t-SNE идею, но иначе, в результате чего получает много выгодных бонусов.\n",
    "\n",
    "Внутри себя метод строит граф, в котором ребрами соединены между собой k ближайших соседей. При этом эти ребра неравноправны: если для данной пары точек расстояние между ними сильно больше, чем расстояния между ними и другими точками, то и ребро будет иметь маленький вес."
   ]
  },
  {
   "cell_type": "markdown",
   "id": "1f17ab56",
   "metadata": {},
   "source": [
    "<img src =\"https://edunet.kea.su/repo/EduNet-content/L04/out/umap.png\" width=\"800\">"
   ]
  },
  {
   "cell_type": "markdown",
   "id": "680dba74",
   "metadata": {},
   "source": [
    "Далее задача состоит в том, чтобы в пространстве более низкой размерности получился граф, похожий на тот, который был в пространстве высокой размерности.\n",
    "Для этого оптимизируем низкоразмерное представление градиентным спуском."
   ]
  },
  {
   "cell_type": "markdown",
   "id": "804ac9aa",
   "metadata": {},
   "source": [
    "Явно видим, что, согласно этому подходу, надо взять 6 компонент."
   ]
  },
  {
   "cell_type": "markdown",
   "id": "f6549725",
   "metadata": {},
   "source": [
    "### UMAP - пример использования на датасете IRIS"
   ]
  },
  {
   "cell_type": "markdown",
   "id": "4fae1c97",
   "metadata": {
    "id": "WMQ0xLSFmi5S"
   },
   "source": [
    "Загрузите [Iris Data Set](https://archive.ics.uci.edu/ml/datasets/iris)\n",
    "\n",
    "Удобный способ сделать это использовать модуль [sklearn.datasets](https://scikit-learn.org/stable/modules/generated/sklearn.datasets.load_iris.html#sklearn.datasets.load_iris)"
   ]
  },
  {
   "cell_type": "code",
   "execution_count": 8,
   "id": "1c5adba4",
   "metadata": {
    "id": "uaoa9hRymi5S"
   },
   "outputs": [],
   "source": [
    "from sklearn.datasets import load_iris\n",
    "import numpy as np\n",
    "# Download dataset\n",
    "data, labels = load_iris(return_X_y=True)"
   ]
  },
  {
   "cell_type": "markdown",
   "id": "98dd2579",
   "metadata": {
    "id": "ZJHyI7s5mi5S"
   },
   "source": [
    "И `data`, и `labels` - это N-мерные массивы. **Посмотрите какие у них размеры**"
   ]
  },
  {
   "cell_type": "code",
   "execution_count": 2,
   "id": "57df9737",
   "metadata": {
    "colab": {
     "base_uri": "https://localhost:8080/"
    },
    "id": "GQ5HdOdHmi5S",
    "outputId": "c53ed1d8-9442-4973-9e67-960b7b71bbb5"
   },
   "outputs": [
    {
     "data": {
      "text/plain": [
       "((150, 4), (150,))"
      ]
     },
     "execution_count": 2,
     "metadata": {},
     "output_type": "execute_result"
    }
   ],
   "source": [
    "data.shape, labels.shape"
   ]
  },
  {
   "cell_type": "markdown",
   "id": "c897b167",
   "metadata": {
    "id": "qPQMxobLmi5S"
   },
   "source": [
    "Видим, что массив `data` состоит из нескольких колонок. Такие колонки мы называем *features*. Набор данных по ирисам содержит четыре характеристики (длина чашелистиков, ширина чашелистиков, длина лепестков, ширина лепестков) 50 образцов трех видов ирисов (setosa, virginica и  versicolor). Вид ирисов отражен в массиве `labels`. \n",
    "\n",
    "**Отфильтруйте массив `data` таким образом, что бы он содержал в себе только ирисы из класса `0`**. Для этого используйте конструкцию `labels == class` в качестве индекса для `data`"
   ]
  },
  {
   "cell_type": "code",
   "execution_count": 3,
   "id": "9c4abefd",
   "metadata": {
    "colab": {
     "base_uri": "https://localhost:8080/"
    },
    "id": "-oHOMo2Xmi5T",
    "outputId": "4266fdb5-25e5-4e1c-ca55-50947e97911e"
   },
   "outputs": [
    {
     "data": {
      "text/plain": [
       "(50, 4)"
      ]
     },
     "execution_count": 3,
     "metadata": {},
     "output_type": "execute_result"
    }
   ],
   "source": [
    "data_0 = data[labels == 0]\n",
    "data_1 = data[labels == 1]\n",
    "data_2 = data[labels == 2]\n",
    "data_0.shape"
   ]
  },
  {
   "cell_type": "markdown",
   "id": "eb80b5cc",
   "metadata": {
    "id": "wWfR1C5hmi5T"
   },
   "source": [
    "К сожалению, когда данных много, просто смотреть на цифры крайне не информативно. \n",
    "\n",
    "Для визуализации данных в этом курсе мы будем использовать библиотеку `matplotlib`. **Давайте ее импортируем**"
   ]
  },
  {
   "cell_type": "code",
   "execution_count": 4,
   "id": "457dd9c8",
   "metadata": {
    "id": "qUKYLYb6mi5T"
   },
   "outputs": [],
   "source": [
    "import matplotlib.pyplot as plt"
   ]
  },
  {
   "cell_type": "markdown",
   "id": "6ac8552b",
   "metadata": {
    "id": "QbrQokcEmi5T"
   },
   "source": [
    "**Постройте на одном рисунке график** признака с **индексом 0** (sepal length in cm) для каждого из **3 классов** (3 графика на одном рисунке). Для построения графика используйте функцию `plt.plot()`. Для того что бы получить доступ ко всем объектам в позиции 0 используйте index notation `[:, 0]`."
   ]
  },
  {
   "cell_type": "code",
   "execution_count": 5,
   "id": "96c17bf8",
   "metadata": {
    "colab": {
     "base_uri": "https://localhost:8080/",
     "height": 265
    },
    "id": "8ih1uGGQmi5T",
    "outputId": "c9c20231-48ae-4c63-cf12-bbae1ba03915"
   },
   "outputs": [
    {
     "data": {
      "image/png": "[encoded data removed]",
      "text/plain": [
       "<Figure size 640x480 with 1 Axes>"
      ]
     },
     "metadata": {},
     "output_type": "display_data"
    }
   ],
   "source": [
    "plt.plot(data_0[:,0])\n",
    "plt.plot(data_1[:,0])\n",
    "plt.plot(data_2[:,0])\n",
    "plt.show()"
   ]
  },
  {
   "cell_type": "markdown",
   "id": "9bf67721",
   "metadata": {
    "id": "vp9nHC5Imi5T"
   },
   "source": [
    "В `matplotlib` есть понятие `subplots`. Давайте создадим 3 `subplots` для наших классов"
   ]
  },
  {
   "cell_type": "markdown",
   "id": "c637e732",
   "metadata": {
    "id": "AXlRAjUImi5U"
   },
   "source": [
    " Если мы посмотрим на `ax.shape` - мы обнаружим что это просто массив, который содержит в себе графические объекты. Соответственно к каждому из этих `subplots` мы можем обращаться по индексу"
   ]
  },
  {
   "cell_type": "markdown",
   "id": "51e61c09",
   "metadata": {
    "id": "qXSTLjTmmi5U"
   },
   "source": [
    "**Для каждого класса постройте зависимость ширины от длины чашелистиков**. Используйте `ax.scatter()`"
   ]
  },
  {
   "cell_type": "code",
   "execution_count": 10,
   "id": "ae26113a",
   "metadata": {
    "colab": {
     "base_uri": "https://localhost:8080/",
     "height": 322
    },
    "id": "lVHyszhsmi5U",
    "outputId": "80dffabe-fe77-4640-8ce1-70ca37abfc33"
   },
   "outputs": [
    {
     "data": {
      "image/png": "[encoded data removed]",
      "text/plain": [
       "<Figure size 1500x500 with 3 Axes>"
      ]
     },
     "metadata": {},
     "output_type": "display_data"
    }
   ],
   "source": [
    "fig, ax = plt.subplots(ncols=3, figsize=(15, 5), sharex=True, sharey=True)\n",
    "length0 , width0 = np.array([data_0[i][0] for i in range(len(data_0))]),np.array([data_0[i][1] for i in range(len(data_0))])\n",
    "length1 , width1 = np.array([data_1[i][0] for i in range(len(data_1))]),np.array([data_1[i][1] for i in range(len(data_1))])\n",
    "length2 , width2 = np.array([data_2[i][0] for i in range(len(data_2))]),np.array([data_2[i][1] for i in range(len(data_2))])\n",
    "ax[0].scatter(length0 , width0, color = 'red') # Your code here \n",
    "ax[1].scatter(length1 , width1, color = 'green') # Your code here \n",
    "ax[2].scatter(length2 , width2, color = 'blue') # Your code here \n",
    "plt.show()"
   ]
  },
  {
   "cell_type": "markdown",
   "id": "6dbba4eb",
   "metadata": {
    "id": "-q5t3Ve5mi5U"
   },
   "source": [
    "Визуализируйте данные из iris dataset при помощи UMAP."
   ]
  },
  {
   "cell_type": "markdown",
   "id": "9a90c908",
   "metadata": {
    "id": "ACODfa_6mi5V"
   },
   "source": [
    "Каждый объект в датасете Iris содержит 4 признака и  него можно было посмотреть как на точку в 4-мерном пространстве, если бы мы могли такое пространство визуализировать непосредственно. В одной из будущих лекций мы подробно познакомимся с различными методами понижения размерности пространства признаков, а пока посмотрим как один таких методов — [UMAP](https://umap-learn.readthedocs.io/en/latest/index.html) — можно использовать для получения двумерной аппроксимации пространства признаков датасета Iris:"
   ]
  },
  {
   "cell_type": "code",
   "execution_count": 11,
   "id": "800b1010",
   "metadata": {
    "id": "59XV_1S8mi5V"
   },
   "outputs": [],
   "source": [
    "! pip install umap-learn[plot]\n",
    "from IPython.display import clear_output\n",
    "clear_output()"
   ]
  },
  {
   "cell_type": "code",
   "execution_count": 12,
   "id": "30c5a6f1",
   "metadata": {
    "id": "5US6MGgVmi5V"
   },
   "outputs": [],
   "source": [
    "import umap\n",
    "import umap.plot\n",
    "import pandas as pd"
   ]
  },
  {
   "cell_type": "markdown",
   "id": "88940f50",
   "metadata": {
    "id": "wTp5p3Pgmi5V"
   },
   "source": [
    "Рассмотрим двумерную проекцию данных при помощи UMAP:"
   ]
  },
  {
   "cell_type": "code",
   "execution_count": 13,
   "id": "3cebb5f8",
   "metadata": {
    "colab": {
     "base_uri": "https://localhost:8080/",
     "height": 817
    },
    "id": "fdxf4H-imi5V",
    "outputId": "dc52a210-1f5b-449b-b213-dee378711629"
   },
   "outputs": [
    {
     "data": {
      "text/html": [
       "<div class=\"bk-root\">\n",
       "        <a href=\"https://bokeh.org\" target=\"_blank\" class=\"bk-logo bk-logo-small bk-logo-notebook\"></a>\n",
       "        <span id=\"1002\">Loading BokehJS ...</span>\n",
       "    </div>\n"
      ]
     },
     "metadata": {},
     "output_type": "display_data"
    },
    {
     "data": {
      "application/javascript": [
       "(function(root) {\n",
       "  function now() {\n",
       "    return new Date();\n",
       "  }\n",
       "\n",
       "  const force = true;\n",
       "\n",
       "  if (typeof root._bokeh_onload_callbacks === \"undefined\" || force === true) {\n",
       "    root._bokeh_onload_callbacks = [];\n",
       "    root._bokeh_is_loading = undefined;\n",
       "  }\n",
       "\n",
       "const JS_MIME_TYPE = 'application/javascript';\n",
       "  const HTML_MIME_TYPE = 'text/html';\n",
       "  const EXEC_MIME_TYPE = 'application/vnd.bokehjs_exec.v0+json';\n",
       "  const CLASS_NAME = 'output_bokeh rendered_html';\n",
       "\n",
       "  /**\n",
       "   * Render data to the DOM node\n",
       "   */\n",
       "  function render(props, node) {\n",
       "    const script = document.createElement(\"script\");\n",
       "    node.appendChild(script);\n",
       "  }\n",
       "\n",
       "  /**\n",
       "   * Handle when an output is cleared or removed\n",
       "   */\n",
       "  function handleClearOutput(event, handle) {\n",
       "    const cell = handle.cell;\n",
       "\n",
       "    const id = cell.output_area._bokeh_element_id;\n",
       "    const server_id = cell.output_area._bokeh_server_id;\n",
       "    // Clean up Bokeh references\n",
       "    if (id != null && id in Bokeh.index) {\n",
       "      Bokeh.index[id].model.document.clear();\n",
       "      delete Bokeh.index[id];\n",
       "    }\n",
       "\n",
       "    if (server_id !== undefined) {\n",
       "      // Clean up Bokeh references\n",
       "      const cmd_clean = \"from bokeh.io.state import curstate; print(curstate().uuid_to_server['\" + server_id + \"'].get_sessions()[0].document.roots[0]._id)\";\n",
       "      cell.notebook.kernel.execute(cmd_clean, {\n",
       "        iopub: {\n",
       "          output: function(msg) {\n",
       "            const id = msg.content.text.trim();\n",
       "            if (id in Bokeh.index) {\n",
       "              Bokeh.index[id].model.document.clear();\n",
       "              delete Bokeh.index[id];\n",
       "            }\n",
       "          }\n",
       "        }\n",
       "      });\n",
       "      // Destroy server and session\n",
       "      const cmd_destroy = \"import bokeh.io.notebook as ion; ion.destroy_server('\" + server_id + \"')\";\n",
       "      cell.notebook.kernel.execute(cmd_destroy);\n",
       "    }\n",
       "  }\n",
       "\n",
       "  /**\n",
       "   * Handle when a new output is added\n",
       "   */\n",
       "  function handleAddOutput(event, handle) {\n",
       "    const output_area = handle.output_area;\n",
       "    const output = handle.output;\n",
       "\n",
       "    // limit handleAddOutput to display_data with EXEC_MIME_TYPE content only\n",
       "    if ((output.output_type != \"display_data\") || (!Object.prototype.hasOwnProperty.call(output.data, EXEC_MIME_TYPE))) {\n",
       "      return\n",
       "    }\n",
       "\n",
       "    const toinsert = output_area.element.find(\".\" + CLASS_NAME.split(' ')[0]);\n",
       "\n",
       "    if (output.metadata[EXEC_MIME_TYPE][\"id\"] !== undefined) {\n",
       "      toinsert[toinsert.length - 1].firstChild.textContent = output.data[JS_MIME_TYPE];\n",
       "      // store reference to embed id on output_area\n",
       "      output_area._bokeh_element_id = output.metadata[EXEC_MIME_TYPE][\"id\"];\n",
       "    }\n",
       "    if (output.metadata[EXEC_MIME_TYPE][\"server_id\"] !== undefined) {\n",
       "      const bk_div = document.createElement(\"div\");\n",
       "      bk_div.innerHTML = output.data[HTML_MIME_TYPE];\n",
       "      const script_attrs = bk_div.children[0].attributes;\n",
       "      for (let i = 0; i < script_attrs.length; i++) {\n",
       "        toinsert[toinsert.length - 1].firstChild.setAttribute(script_attrs[i].name, script_attrs[i].value);\n",
       "        toinsert[toinsert.length - 1].firstChild.textContent = bk_div.children[0].textContent\n",
       "      }\n",
       "      // store reference to server id on output_area\n",
       "      output_area._bokeh_server_id = output.metadata[EXEC_MIME_TYPE][\"server_id\"];\n",
       "    }\n",
       "  }\n",
       "\n",
       "  function register_renderer(events, OutputArea) {\n",
       "\n",
       "    function append_mime(data, metadata, element) {\n",
       "      // create a DOM node to render to\n",
       "      const toinsert = this.create_output_subarea(\n",
       "        metadata,\n",
       "        CLASS_NAME,\n",
       "        EXEC_MIME_TYPE\n",
       "      );\n",
       "      this.keyboard_manager.register_events(toinsert);\n",
       "      // Render to node\n",
       "      const props = {data: data, metadata: metadata[EXEC_MIME_TYPE]};\n",
       "      render(props, toinsert[toinsert.length - 1]);\n",
       "      element.append(toinsert);\n",
       "      return toinsert\n",
       "    }\n",
       "\n",
       "    /* Handle when an output is cleared or removed */\n",
       "    events.on('clear_output.CodeCell', handleClearOutput);\n",
       "    events.on('delete.Cell', handleClearOutput);\n",
       "\n",
       "    /* Handle when a new output is added */\n",
       "    events.on('output_added.OutputArea', handleAddOutput);\n",
       "\n",
       "    /**\n",
       "     * Register the mime type and append_mime function with output_area\n",
       "     */\n",
       "    OutputArea.prototype.register_mime_type(EXEC_MIME_TYPE, append_mime, {\n",
       "      /* Is output safe? */\n",
       "      safe: true,\n",
       "      /* Index of renderer in `output_area.display_order` */\n",
       "      index: 0\n",
       "    });\n",
       "  }\n",
       "\n",
       "  // register the mime type if in Jupyter Notebook environment and previously unregistered\n",
       "  if (root.Jupyter !== undefined) {\n",
       "    const events = require('base/js/events');\n",
       "    const OutputArea = require('notebook/js/outputarea').OutputArea;\n",
       "\n",
       "    if (OutputArea.prototype.mime_types().indexOf(EXEC_MIME_TYPE) == -1) {\n",
       "      register_renderer(events, OutputArea);\n",
       "    }\n",
       "  }\n",
       "  if (typeof (root._bokeh_timeout) === \"undefined\" || force === true) {\n",
       "    root._bokeh_timeout = Date.now() + 5000;\n",
       "    root._bokeh_failed_load = false;\n",
       "  }\n",
       "\n",
       "  const NB_LOAD_WARNING = {'data': {'text/html':\n",
       "     \"<div style='background-color: #fdd'>\\n\"+\n",
       "     \"<p>\\n\"+\n",
       "     \"BokehJS does not appear to have successfully loaded. If loading BokehJS from CDN, this \\n\"+\n",
       "     \"may be due to a slow or bad network connection. Possible fixes:\\n\"+\n",
       "     \"</p>\\n\"+\n",
       "     \"<ul>\\n\"+\n",
       "     \"<li>re-rerun `output_notebook()` to attempt to load from CDN again, or</li>\\n\"+\n",
       "     \"<li>use INLINE resources instead, as so:</li>\\n\"+\n",
       "     \"</ul>\\n\"+\n",
       "     \"<code>\\n\"+\n",
       "     \"from bokeh.resources import INLINE\\n\"+\n",
       "     \"output_notebook(resources=INLINE)\\n\"+\n",
       "     \"</code>\\n\"+\n",
       "     \"</div>\"}};\n",
       "\n",
       "  function display_loaded() {\n",
       "    const el = document.getElementById(\"1002\");\n",
       "    if (el != null) {\n",
       "      el.textContent = \"BokehJS is loading...\";\n",
       "    }\n",
       "    if (root.Bokeh !== undefined) {\n",
       "      if (el != null) {\n",
       "        el.textContent = \"BokehJS \" + root.Bokeh.version + \" successfully loaded.\";\n",
       "      }\n",
       "    } else if (Date.now() < root._bokeh_timeout) {\n",
       "      setTimeout(display_loaded, 100)\n",
       "    }\n",
       "  }\n",
       "\n",
       "  function run_callbacks() {\n",
       "    try {\n",
       "      root._bokeh_onload_callbacks.forEach(function(callback) {\n",
       "        if (callback != null)\n",
       "          callback();\n",
       "      });\n",
       "    } finally {\n",
       "      delete root._bokeh_onload_callbacks\n",
       "    }\n",
       "    console.debug(\"Bokeh: all callbacks have finished\");\n",
       "  }\n",
       "\n",
       "  function load_libs(css_urls, js_urls, callback) {\n",
       "    if (css_urls == null) css_urls = [];\n",
       "    if (js_urls == null) js_urls = [];\n",
       "\n",
       "    root._bokeh_onload_callbacks.push(callback);\n",
       "    if (root._bokeh_is_loading > 0) {\n",
       "      console.debug(\"Bokeh: BokehJS is being loaded, scheduling callback at\", now());\n",
       "      return null;\n",
       "    }\n",
       "    if (js_urls == null || js_urls.length === 0) {\n",
       "      run_callbacks();\n",
       "      return null;\n",
       "    }\n",
       "    console.debug(\"Bokeh: BokehJS not loaded, scheduling load and callback at\", now());\n",
       "    root._bokeh_is_loading = css_urls.length + js_urls.length;\n",
       "\n",
       "    function on_load() {\n",
       "      root._bokeh_is_loading--;\n",
       "      if (root._bokeh_is_loading === 0) {\n",
       "        console.debug(\"Bokeh: all BokehJS libraries/stylesheets loaded\");\n",
       "        run_callbacks()\n",
       "      }\n",
       "    }\n",
       "\n",
       "    function on_error(url) {\n",
       "      console.error(\"failed to load \" + url);\n",
       "    }\n",
       "\n",
       "    for (let i = 0; i < css_urls.length; i++) {\n",
       "      const url = css_urls[i];\n",
       "      const element = document.createElement(\"link\");\n",
       "      element.onload = on_load;\n",
       "      element.onerror = on_error.bind(null, url);\n",
       "      element.rel = \"stylesheet\";\n",
       "      element.type = \"text/css\";\n",
       "      element.href = url;\n",
       "      console.debug(\"Bokeh: injecting link tag for BokehJS stylesheet: \", url);\n",
       "      document.body.appendChild(element);\n",
       "    }\n",
       "\n",
       "    for (let i = 0; i < js_urls.length; i++) {\n",
       "      const url = js_urls[i];\n",
       "      const element = document.createElement('script');\n",
       "      element.onload = on_load;\n",
       "      element.onerror = on_error.bind(null, url);\n",
       "      element.async = false;\n",
       "      element.src = url;\n",
       "      console.debug(\"Bokeh: injecting script tag for BokehJS library: \", url);\n",
       "      document.head.appendChild(element);\n",
       "    }\n",
       "  };\n",
       "\n",
       "  function inject_raw_css(css) {\n",
       "    const element = document.createElement(\"style\");\n",
       "    element.appendChild(document.createTextNode(css));\n",
       "    document.body.appendChild(element);\n",
       "  }\n",
       "\n",
       "  const js_urls = [\"https://cdn.bokeh.org/bokeh/release/bokeh-2.4.3.min.js\", \"https://cdn.bokeh.org/bokeh/release/bokeh-gl-2.4.3.min.js\", \"https://cdn.bokeh.org/bokeh/release/bokeh-widgets-2.4.3.min.js\", \"https://cdn.bokeh.org/bokeh/release/bokeh-tables-2.4.3.min.js\", \"https://cdn.bokeh.org/bokeh/release/bokeh-mathjax-2.4.3.min.js\", \"https://unpkg.com/@holoviz/panel@0.14.3/dist/panel.min.js\"];\n",
       "  const css_urls = [];\n",
       "\n",
       "  const inline_js = [    function(Bokeh) {\n",
       "      Bokeh.set_log_level(\"info\");\n",
       "    },\n",
       "function(Bokeh) {\n",
       "    }\n",
       "  ];\n",
       "\n",
       "  function run_inline_js() {\n",
       "    if (root.Bokeh !== undefined || force === true) {\n",
       "          for (let i = 0; i < inline_js.length; i++) {\n",
       "      inline_js[i].call(root, root.Bokeh);\n",
       "    }\n",
       "if (force === true) {\n",
       "        display_loaded();\n",
       "      }} else if (Date.now() < root._bokeh_timeout) {\n",
       "      setTimeout(run_inline_js, 100);\n",
       "    } else if (!root._bokeh_failed_load) {\n",
       "      console.log(\"Bokeh: BokehJS failed to load within specified timeout.\");\n",
       "      root._bokeh_failed_load = true;\n",
       "    } else if (force !== true) {\n",
       "      const cell = $(document.getElementById(\"1002\")).parents('.cell').data().cell;\n",
       "      cell.output_area.append_execute_result(NB_LOAD_WARNING)\n",
       "    }\n",
       "  }\n",
       "\n",
       "  if (root._bokeh_is_loading === 0) {\n",
       "    console.debug(\"Bokeh: BokehJS loaded, going straight to plotting\");\n",
       "    run_inline_js();\n",
       "  } else {\n",
       "    load_libs(css_urls, js_urls, function() {\n",
       "      console.debug(\"Bokeh: BokehJS plotting callback run at\", now());\n",
       "      run_inline_js();\n",
       "    });\n",
       "  }\n",
       "}(window));"
      ],
      "application/vnd.bokehjs_load.v0+json": "(function(root) {\n  function now() {\n    return new Date();\n  }\n\n  const force = true;\n\n  if (typeof root._bokeh_onload_callbacks === \"undefined\" || force === true) {\n    root._bokeh_onload_callbacks = [];\n    root._bokeh_is_loading = undefined;\n  }\n\n\n  if (typeof (root._bokeh_timeout) === \"undefined\" || force === true) {\n    root._bokeh_timeout = Date.now() + 5000;\n    root._bokeh_failed_load = false;\n  }\n\n  const NB_LOAD_WARNING = {'data': {'text/html':\n     \"<div style='background-color: #fdd'>\\n\"+\n     \"<p>\\n\"+\n     \"BokehJS does not appear to have successfully loaded. If loading BokehJS from CDN, this \\n\"+\n     \"may be due to a slow or bad network connection. Possible fixes:\\n\"+\n     \"</p>\\n\"+\n     \"<ul>\\n\"+\n     \"<li>re-rerun `output_notebook()` to attempt to load from CDN again, or</li>\\n\"+\n     \"<li>use INLINE resources instead, as so:</li>\\n\"+\n     \"</ul>\\n\"+\n     \"<code>\\n\"+\n     \"from bokeh.resources import INLINE\\n\"+\n     \"output_notebook(resources=INLINE)\\n\"+\n     \"</code>\\n\"+\n     \"</div>\"}};\n\n  function display_loaded() {\n    const el = document.getElementById(\"1002\");\n    if (el != null) {\n      el.textContent = \"BokehJS is loading...\";\n    }\n    if (root.Bokeh !== undefined) {\n      if (el != null) {\n        el.textContent = \"BokehJS \" + root.Bokeh.version + \" successfully loaded.\";\n      }\n    } else if (Date.now() < root._bokeh_timeout) {\n      setTimeout(display_loaded, 100)\n    }\n  }\n\n  function run_callbacks() {\n    try {\n      root._bokeh_onload_callbacks.forEach(function(callback) {\n        if (callback != null)\n          callback();\n      });\n    } finally {\n      delete root._bokeh_onload_callbacks\n    }\n    console.debug(\"Bokeh: all callbacks have finished\");\n  }\n\n  function load_libs(css_urls, js_urls, callback) {\n    if (css_urls == null) css_urls = [];\n    if (js_urls == null) js_urls = [];\n\n    root._bokeh_onload_callbacks.push(callback);\n    if (root._bokeh_is_loading > 0) {\n      console.debug(\"Bokeh: BokehJS is being loaded, scheduling callback at\", now());\n      return null;\n    }\n    if (js_urls == null || js_urls.length === 0) {\n      run_callbacks();\n      return null;\n    }\n    console.debug(\"Bokeh: BokehJS not loaded, scheduling load and callback at\", now());\n    root._bokeh_is_loading = css_urls.length + js_urls.length;\n\n    function on_load() {\n      root._bokeh_is_loading--;\n      if (root._bokeh_is_loading === 0) {\n        console.debug(\"Bokeh: all BokehJS libraries/stylesheets loaded\");\n        run_callbacks()\n      }\n    }\n\n    function on_error(url) {\n      console.error(\"failed to load \" + url);\n    }\n\n    for (let i = 0; i < css_urls.length; i++) {\n      const url = css_urls[i];\n      const element = document.createElement(\"link\");\n      element.onload = on_load;\n      element.onerror = on_error.bind(null, url);\n      element.rel = \"stylesheet\";\n      element.type = \"text/css\";\n      element.href = url;\n      console.debug(\"Bokeh: injecting link tag for BokehJS stylesheet: \", url);\n      document.body.appendChild(element);\n    }\n\n    for (let i = 0; i < js_urls.length; i++) {\n      const url = js_urls[i];\n      const element = document.createElement('script');\n      element.onload = on_load;\n      element.onerror = on_error.bind(null, url);\n      element.async = false;\n      element.src = url;\n      console.debug(\"Bokeh: injecting script tag for BokehJS library: \", url);\n      document.head.appendChild(element);\n    }\n  };\n\n  function inject_raw_css(css) {\n    const element = document.createElement(\"style\");\n    element.appendChild(document.createTextNode(css));\n    document.body.appendChild(element);\n  }\n\n  const js_urls = [\"https://cdn.bokeh.org/bokeh/release/bokeh-2.4.3.min.js\", \"https://cdn.bokeh.org/bokeh/release/bokeh-gl-2.4.3.min.js\", \"https://cdn.bokeh.org/bokeh/release/bokeh-widgets-2.4.3.min.js\", \"https://cdn.bokeh.org/bokeh/release/bokeh-tables-2.4.3.min.js\", \"https://cdn.bokeh.org/bokeh/release/bokeh-mathjax-2.4.3.min.js\", \"https://unpkg.com/@holoviz/panel@0.14.3/dist/panel.min.js\"];\n  const css_urls = [];\n\n  const inline_js = [    function(Bokeh) {\n      Bokeh.set_log_level(\"info\");\n    },\nfunction(Bokeh) {\n    }\n  ];\n\n  function run_inline_js() {\n    if (root.Bokeh !== undefined || force === true) {\n          for (let i = 0; i < inline_js.length; i++) {\n      inline_js[i].call(root, root.Bokeh);\n    }\nif (force === true) {\n        display_loaded();\n      }} else if (Date.now() < root._bokeh_timeout) {\n      setTimeout(run_inline_js, 100);\n    } else if (!root._bokeh_failed_load) {\n      console.log(\"Bokeh: BokehJS failed to load within specified timeout.\");\n      root._bokeh_failed_load = true;\n    } else if (force !== true) {\n      const cell = $(document.getElementById(\"1002\")).parents('.cell').data().cell;\n      cell.output_area.append_execute_result(NB_LOAD_WARNING)\n    }\n  }\n\n  if (root._bokeh_is_loading === 0) {\n    console.debug(\"Bokeh: BokehJS loaded, going straight to plotting\");\n    run_inline_js();\n  } else {\n    load_libs(css_urls, js_urls, function() {\n      console.debug(\"Bokeh: BokehJS plotting callback run at\", now());\n      run_inline_js();\n    });\n  }\n}(window));"
     },
     "metadata": {},
     "output_type": "display_data"
    },
    {
     "data": {
      "text/html": [
       "\n",
       "  <div class=\"bk-root\" id=\"46f488ba-6a79-4f60-850a-f9e852d893e7\" data-root-id=\"1004\"></div>\n"
      ]
     },
     "metadata": {},
     "output_type": "display_data"
    },
    {
     "data": {
      "application/javascript": [
       "(function(root) {\n",
       "  function embed_document(root) {\n",
       "  const docs_json = {\"0d082026-3fc7-4b58-bd70-e25a8cd6beff\":{\"defs\":[{\"extends\":null,\"module\":null,\"name\":\"ReactiveHTML1\",\"overrides\":[],\"properties\":[]},{\"extends\":null,\"module\":null,\"name\":\"FlexBox1\",\"overrides\":[],\"properties\":[{\"default\":\"flex-start\",\"kind\":null,\"name\":\"align_content\"},{\"default\":\"flex-start\",\"kind\":null,\"name\":\"align_items\"},{\"default\":\"row\",\"kind\":null,\"name\":\"flex_direction\"},{\"default\":\"wrap\",\"kind\":null,\"name\":\"flex_wrap\"},{\"default\":\"flex-start\",\"kind\":null,\"name\":\"justify_content\"}]},{\"extends\":null,\"module\":null,\"name\":\"GridStack1\",\"overrides\":[],\"properties\":[{\"default\":\"warn\",\"kind\":null,\"name\":\"mode\"},{\"default\":null,\"kind\":null,\"name\":\"ncols\"},{\"default\":null,\"kind\":null,\"name\":\"nrows\"},{\"default\":true,\"kind\":null,\"name\":\"allow_resize\"},{\"default\":true,\"kind\":null,\"name\":\"allow_drag\"},{\"default\":[],\"kind\":null,\"name\":\"state\"}]},{\"extends\":null,\"module\":null,\"name\":\"click1\",\"overrides\":[],\"properties\":[{\"default\":\"\",\"kind\":null,\"name\":\"terminal_output\"},{\"default\":\"\",\"kind\":null,\"name\":\"debug_name\"},{\"default\":0,\"kind\":null,\"name\":\"clears\"}]},{\"extends\":null,\"module\":null,\"name\":\"NotificationAreaBase1\",\"overrides\":[],\"properties\":[{\"default\":\"bottom-right\",\"kind\":null,\"name\":\"position\"},{\"default\":0,\"kind\":null,\"name\":\"_clear\"}]},{\"extends\":null,\"module\":null,\"name\":\"NotificationArea1\",\"overrides\":[],\"properties\":[{\"default\":[],\"kind\":null,\"name\":\"notifications\"},{\"default\":\"bottom-right\",\"kind\":null,\"name\":\"position\"},{\"default\":0,\"kind\":null,\"name\":\"_clear\"},{\"default\":[{\"background\":\"#ffc107\",\"icon\":{\"className\":\"fas fa-exclamation-triangle\",\"color\":\"white\",\"tagName\":\"i\"},\"type\":\"warning\"},{\"background\":\"#007bff\",\"icon\":{\"className\":\"fas fa-info-circle\",\"color\":\"white\",\"tagName\":\"i\"},\"type\":\"info\"}],\"kind\":null,\"name\":\"types\"}]},{\"extends\":null,\"module\":null,\"name\":\"Notification\",\"overrides\":[],\"properties\":[{\"default\":null,\"kind\":null,\"name\":\"background\"},{\"default\":3000,\"kind\":null,\"name\":\"duration\"},{\"default\":null,\"kind\":null,\"name\":\"icon\"},{\"default\":\"\",\"kind\":null,\"name\":\"message\"},{\"default\":null,\"kind\":null,\"name\":\"notification_type\"},{\"default\":false,\"kind\":null,\"name\":\"_destroyed\"}]},{\"extends\":null,\"module\":null,\"name\":\"TemplateActions1\",\"overrides\":[],\"properties\":[{\"default\":0,\"kind\":null,\"name\":\"open_modal\"},{\"default\":0,\"kind\":null,\"name\":\"close_modal\"}]},{\"extends\":null,\"module\":null,\"name\":\"MaterialTemplateActions1\",\"overrides\":[],\"properties\":[{\"default\":0,\"kind\":null,\"name\":\"open_modal\"},{\"default\":0,\"kind\":null,\"name\":\"close_modal\"}]}],\"roots\":{\"references\":[{\"attributes\":{\"background_fill_color\":\"white\",\"below\":[{\"id\":\"1013\"}],\"center\":[{\"id\":\"1016\"},{\"id\":\"1020\"}],\"height\":800,\"left\":[{\"id\":\"1017\"}],\"renderers\":[{\"id\":\"1041\"}],\"title\":{\"id\":\"1043\"},\"toolbar\":{\"id\":\"1029\"},\"width\":800,\"x_range\":{\"id\":\"1005\"},\"x_scale\":{\"id\":\"1009\"},\"y_range\":{\"id\":\"1007\"},\"y_scale\":{\"id\":\"1011\"}},\"id\":\"1004\",\"subtype\":\"Figure\",\"type\":\"Plot\"},{\"attributes\":{},\"id\":\"1050\",\"type\":\"AllLabels\"},{\"attributes\":{\"data\":{\"alpha\":[1,1,1,1,1,1,1,1,1,1,1,1,1,1,1,1,1,1,1,1,1,1,1,1,1,1,1,1,1,1,1,1,1,1,1,1,1,1,1,1,1,1,1,1,1,1,1,1,1,1,1,1,1,1,1,1,1,1,1,1,1,1,1,1,1,1,1,1,1,1,1,1,1,1,1,1,1,1,1,1,1,1,1,1,1,1,1,1,1,1,1,1,1,1,1,1,1,1,1,1,1,1,1,1,1,1,1,1,1,1,1,1,1,1,1,1,1,1,1,1,1,1,1,1,1,1,1,1,1,1,1,1,1,1,1,1,1,1,1,1,1,1,1,1,1,1,1,1,1,1],\"color\":[\"#393b79\",\"#393b79\",\"#393b79\",\"#393b79\",\"#393b79\",\"#393b79\",\"#393b79\",\"#393b79\",\"#393b79\",\"#393b79\",\"#393b79\",\"#393b79\",\"#393b79\",\"#393b79\",\"#393b79\",\"#393b79\",\"#393b79\",\"#393b79\",\"#393b79\",\"#393b79\",\"#393b79\",\"#393b79\",\"#393b79\",\"#393b79\",\"#393b79\",\"#393b79\",\"#393b79\",\"#393b79\",\"#393b79\",\"#393b79\",\"#393b79\",\"#393b79\",\"#393b79\",\"#393b79\",\"#393b79\",\"#393b79\",\"#393b79\",\"#393b79\",\"#393b79\",\"#393b79\",\"#393b79\",\"#393b79\",\"#393b79\",\"#393b79\",\"#393b79\",\"#393b79\",\"#393b79\",\"#393b79\",\"#393b79\",\"#393b79\",\"#e7ba52\",\"#e7ba52\",\"#e7ba52\",\"#e7ba52\",\"#e7ba52\",\"#e7ba52\",\"#e7ba52\",\"#e7ba52\",\"#e7ba52\",\"#e7ba52\",\"#e7ba52\",\"#e7ba52\",\"#e7ba52\",\"#e7ba52\",\"#e7ba52\",\"#e7ba52\",\"#e7ba52\",\"#e7ba52\",\"#e7ba52\",\"#e7ba52\",\"#e7ba52\",\"#e7ba52\",\"#e7ba52\",\"#e7ba52\",\"#e7ba52\",\"#e7ba52\",\"#e7ba52\",\"#e7ba52\",\"#e7ba52\",\"#e7ba52\",\"#e7ba52\",\"#e7ba52\",\"#e7ba52\",\"#e7ba52\",\"#e7ba52\",\"#e7ba52\",\"#e7ba52\",\"#e7ba52\",\"#e7ba52\",\"#e7ba52\",\"#e7ba52\",\"#e7ba52\",\"#e7ba52\",\"#e7ba52\",\"#e7ba52\",\"#e7ba52\",\"#e7ba52\",\"#e7ba52\",\"#e7ba52\",\"#e7ba52\",\"#de9ed6\",\"#de9ed6\",\"#de9ed6\",\"#de9ed6\",\"#de9ed6\",\"#de9ed6\",\"#de9ed6\",\"#de9ed6\",\"#de9ed6\",\"#de9ed6\",\"#de9ed6\",\"#de9ed6\",\"#de9ed6\",\"#de9ed6\",\"#de9ed6\",\"#de9ed6\",\"#de9ed6\",\"#de9ed6\",\"#de9ed6\",\"#de9ed6\",\"#de9ed6\",\"#de9ed6\",\"#de9ed6\",\"#de9ed6\",\"#de9ed6\",\"#de9ed6\",\"#de9ed6\",\"#de9ed6\",\"#de9ed6\",\"#de9ed6\",\"#de9ed6\",\"#de9ed6\",\"#de9ed6\",\"#de9ed6\",\"#de9ed6\",\"#de9ed6\",\"#de9ed6\",\"#de9ed6\",\"#de9ed6\",\"#de9ed6\",\"#de9ed6\",\"#de9ed6\",\"#de9ed6\",\"#de9ed6\",\"#de9ed6\",\"#de9ed6\",\"#de9ed6\",\"#de9ed6\",\"#de9ed6\",\"#de9ed6\"],\"index\":{\"__ndarray__\":\"AAAAAAEAAAACAAAAAwAAAAQAAAAFAAAABgAAAAcAAAAIAAAACQAAAAoAAAALAAAADAAAAA0AAAAOAAAADwAAABAAAAARAAAAEgAAABMAAAAUAAAAFQAAABYAAAAXAAAAGAAAABkAAAAaAAAAGwAAABwAAAAdAAAAHgAAAB8AAAAgAAAAIQAAACIAAAAjAAAAJAAAACUAAAAmAAAAJwAAACgAAAApAAAAKgAAACsAAAAsAAAALQAAAC4AAAAvAAAAMAAAADEAAAAyAAAAMwAAADQAAAA1AAAANgAAADcAAAA4AAAAOQAAADoAAAA7AAAAPAAAAD0AAAA+AAAAPwAAAEAAAABBAAAAQgAAAEMAAABEAAAARQAAAEYAAABHAAAASAAAAEkAAABKAAAASwAAAEwAAABNAAAATgAAAE8AAABQAAAAUQAAAFIAAABTAAAAVAAAAFUAAABWAAAAVwAAAFgAAABZAAAAWgAAAFsAAABcAAAAXQAAAF4AAABfAAAAYAAAAGEAAABiAAAAYwAAAGQAAABlAAAAZgAAAGcAAABoAAAAaQAAAGoAAABrAAAAbAAAAG0AAABuAAAAbwAAAHAAAABxAAAAcgAAAHMAAAB0AAAAdQAAAHYAAAB3AAAAeAAAAHkAAAB6AAAAewAAAHwAAAB9AAAAfgAAAH8AAACAAAAAgQAAAIIAAACDAAAAhAAAAIUAAACGAAAAhwAAAIgAAACJAAAAigAAAIsAAACMAAAAjQAAAI4AAACPAAAAkAAAAJEAAACSAAAAkwAAAJQAAACVAAAA\",\"dtype\":\"int32\",\"order\":\"little\",\"shape\":[150]},\"item\":[\"Setosa\",\"Setosa\",\"Setosa\",\"Setosa\",\"Setosa\",\"Setosa\",\"Setosa\",\"Setosa\",\"Setosa\",\"Setosa\",\"Setosa\",\"Setosa\",\"Setosa\",\"Setosa\",\"Setosa\",\"Setosa\",\"Setosa\",\"Setosa\",\"Setosa\",\"Setosa\",\"Setosa\",\"Setosa\",\"Setosa\",\"Setosa\",\"Setosa\",\"Setosa\",\"Setosa\",\"Setosa\",\"Setosa\",\"Setosa\",\"Setosa\",\"Setosa\",\"Setosa\",\"Setosa\",\"Setosa\",\"Setosa\",\"Setosa\",\"Setosa\",\"Setosa\",\"Setosa\",\"Setosa\",\"Setosa\",\"Setosa\",\"Setosa\",\"Setosa\",\"Setosa\",\"Setosa\",\"Setosa\",\"Setosa\",\"Setosa\",\"Versicolor\",\"Versicolor\",\"Versicolor\",\"Versicolor\",\"Versicolor\",\"Versicolor\",\"Versicolor\",\"Versicolor\",\"Versicolor\",\"Versicolor\",\"Versicolor\",\"Versicolor\",\"Versicolor\",\"Versicolor\",\"Versicolor\",\"Versicolor\",\"Versicolor\",\"Versicolor\",\"Versicolor\",\"Versicolor\",\"Versicolor\",\"Versicolor\",\"Versicolor\",\"Versicolor\",\"Versicolor\",\"Versicolor\",\"Versicolor\",\"Versicolor\",\"Versicolor\",\"Versicolor\",\"Versicolor\",\"Versicolor\",\"Versicolor\",\"Versicolor\",\"Versicolor\",\"Versicolor\",\"Versicolor\",\"Versicolor\",\"Versicolor\",\"Versicolor\",\"Versicolor\",\"Versicolor\",\"Versicolor\",\"Versicolor\",\"Versicolor\",\"Versicolor\",\"Versicolor\",\"Versicolor\",\"Versicolor\",\"Versicolor\",\"Virginica\",\"Virginica\",\"Virginica\",\"Virginica\",\"Virginica\",\"Virginica\",\"Virginica\",\"Virginica\",\"Virginica\",\"Virginica\",\"Virginica\",\"Virginica\",\"Virginica\",\"Virginica\",\"Virginica\",\"Virginica\",\"Virginica\",\"Virginica\",\"Virginica\",\"Virginica\",\"Virginica\",\"Virginica\",\"Virginica\",\"Virginica\",\"Virginica\",\"Virginica\",\"Virginica\",\"Virginica\",\"Virginica\",\"Virginica\",\"Virginica\",\"Virginica\",\"Virginica\",\"Virginica\",\"Virginica\",\"Virginica\",\"Virginica\",\"Virginica\",\"Virginica\",\"Virginica\",\"Virginica\",\"Virginica\",\"Virginica\",\"Virginica\",\"Virginica\",\"Virginica\",\"Virginica\",\"Virginica\",\"Virginica\",\"Virginica\"],\"label\":{\"__ndarray__\":\"AAAAAAAAAAAAAAAAAAAAAAAAAAAAAAAAAAAAAAAAAAAAAAAAAAAAAAAAAAAAAAAAAAAAAAAAAAAAAAAAAAAAAAAAAAAAAAAAAAAAAAAAAAAAAAAAAAAAAAAAAAAAAAAAAAAAAAAAAAAAAAAAAAAAAAAAAAAAAAAAAAAAAAAAAAAAAAAAAAAAAAAAAAAAAAAAAAAAAAAAAAAAAAAAAAAAAAAAAAAAAAAAAAAAAAAAAAAAAAAAAAAAAAAAAAAAAAAAAAAAAAAAAAABAAAAAQAAAAEAAAABAAAAAQAAAAEAAAABAAAAAQAAAAEAAAABAAAAAQAAAAEAAAABAAAAAQAAAAEAAAABAAAAAQAAAAEAAAABAAAAAQAAAAEAAAABAAAAAQAAAAEAAAABAAAAAQAAAAEAAAABAAAAAQAAAAEAAAABAAAAAQAAAAEAAAABAAAAAQAAAAEAAAABAAAAAQAAAAEAAAABAAAAAQAAAAEAAAABAAAAAQAAAAEAAAABAAAAAQAAAAEAAAABAAAAAQAAAAIAAAACAAAAAgAAAAIAAAACAAAAAgAAAAIAAAACAAAAAgAAAAIAAAACAAAAAgAAAAIAAAACAAAAAgAAAAIAAAACAAAAAgAAAAIAAAACAAAAAgAAAAIAAAACAAAAAgAAAAIAAAACAAAAAgAAAAIAAAACAAAAAgAAAAIAAAACAAAAAgAAAAIAAAACAAAAAgAAAAIAAAACAAAAAgAAAAIAAAACAAAAAgAAAAIAAAACAAAAAgAAAAIAAAACAAAAAgAAAAIAAAACAAAA\",\"dtype\":\"int32\",\"order\":\"little\",\"shape\":[150]},\"level_0\":[0,1,2,3,4,5,6,7,8,9,10,11,12,13,14,15,16,17,18,19,20,21,22,23,24,25,26,27,28,29,30,31,32,33,34,35,36,37,38,39,40,41,42,43,44,45,46,47,48,49,50,51,52,53,54,55,56,57,58,59,60,61,62,63,64,65,66,67,68,69,70,71,72,73,74,75,76,77,78,79,80,81,82,83,84,85,86,87,88,89,90,91,92,93,94,95,96,97,98,99,100,101,102,103,104,105,106,107,108,109,110,111,112,113,114,115,116,117,118,119,120,121,122,123,124,125,126,127,128,129,130,131,132,133,134,135,136,137,138,139,140,141,142,143,144,145,146,147,148,149],\"petal length in cm\":{\"__ndarray__\":\"ZmZmZmZm9j9mZmZmZmb2P83MzMzMzPQ/AAAAAAAA+D9mZmZmZmb2PzMzMzMzM/s/ZmZmZmZm9j8AAAAAAAD4P2ZmZmZmZvY/AAAAAAAA+D8AAAAAAAD4P5qZmZmZmfk/ZmZmZmZm9j+amZmZmZnxPzMzMzMzM/M/AAAAAAAA+D/NzMzMzMz0P2ZmZmZmZvY/MzMzMzMz+z8AAAAAAAD4PzMzMzMzM/s/AAAAAAAA+D8AAAAAAADwPzMzMzMzM/s/ZmZmZmZm/j+amZmZmZn5P5qZmZmZmfk/AAAAAAAA+D9mZmZmZmb2P5qZmZmZmfk/mpmZmZmZ+T8AAAAAAAD4PwAAAAAAAPg/ZmZmZmZm9j8AAAAAAAD4PzMzMzMzM/M/zczMzMzM9D9mZmZmZmb2P83MzMzMzPQ/AAAAAAAA+D/NzMzMzMz0P83MzMzMzPQ/zczMzMzM9D+amZmZmZn5P2ZmZmZmZv4/ZmZmZmZm9j+amZmZmZn5P2ZmZmZmZvY/AAAAAAAA+D9mZmZmZmb2P83MzMzMzBJAAAAAAAAAEkCamZmZmZkTQAAAAAAAABBAZmZmZmZmEkAAAAAAAAASQM3MzMzMzBJAZmZmZmZmCkBmZmZmZmYSQDMzMzMzMw9AAAAAAAAADEDNzMzMzMwQQAAAAAAAABBAzczMzMzMEkDNzMzMzMwMQJqZmZmZmRFAAAAAAAAAEkBmZmZmZmYQQAAAAAAAABJAMzMzMzMzD0AzMzMzMzMTQAAAAAAAABBAmpmZmZmZE0DNzMzMzMwSQDMzMzMzMxFAmpmZmZmZEUAzMzMzMzMTQAAAAAAAABRAAAAAAAAAEkAAAAAAAAAMQGZmZmZmZg5AmpmZmZmZDUAzMzMzMzMPQGZmZmZmZhRAAAAAAAAAEkAAAAAAAAASQM3MzMzMzBJAmpmZmZmZEUBmZmZmZmYQQAAAAAAAABBAmpmZmZmZEUBmZmZmZmYSQAAAAAAAABBAZmZmZmZmCkDNzMzMzMwQQM3MzMzMzBBAzczMzMzMEEAzMzMzMzMRQAAAAAAAAAhAZmZmZmZmEEAAAAAAAAAYQGZmZmZmZhRAmpmZmZmZF0BmZmZmZmYWQDMzMzMzMxdAZmZmZmZmGkAAAAAAAAASQDMzMzMzMxlAMzMzMzMzF0BmZmZmZmYYQGZmZmZmZhRAMzMzMzMzFUAAAAAAAAAWQAAAAAAAABRAZmZmZmZmFEAzMzMzMzMVQAAAAAAAABZAzczMzMzMGkCamZmZmZkbQAAAAAAAABRAzczMzMzMFkCamZmZmZkTQM3MzMzMzBpAmpmZmZmZE0DNzMzMzMwWQAAAAAAAABhAMzMzMzMzE0CamZmZmZkTQGZmZmZmZhZAMzMzMzMzF0BmZmZmZmYYQJqZmZmZmRlAZmZmZmZmFkBmZmZmZmYUQGZmZmZmZhZAZmZmZmZmGEBmZmZmZmYWQAAAAAAAABZAMzMzMzMzE0CamZmZmZkVQGZmZmZmZhZAZmZmZmZmFEBmZmZmZmYUQJqZmZmZmRdAzczMzMzMFkDNzMzMzMwUQAAAAAAAABRAzczMzMzMFECamZmZmZkVQGZmZmZmZhRA\",\"dtype\":\"float64\",\"order\":\"little\",\"shape\":[150]},\"petal width in cm\":{\"__ndarray__\":\"mpmZmZmZyT+amZmZmZnJP5qZmZmZmck/mpmZmZmZyT+amZmZmZnJP5qZmZmZmdk/MzMzMzMz0z+amZmZmZnJP5qZmZmZmck/mpmZmZmZuT+amZmZmZnJP5qZmZmZmck/mpmZmZmZuT+amZmZmZm5P5qZmZmZmck/mpmZmZmZ2T+amZmZmZnZPzMzMzMzM9M/MzMzMzMz0z8zMzMzMzPTP5qZmZmZmck/mpmZmZmZ2T+amZmZmZnJPwAAAAAAAOA/mpmZmZmZyT+amZmZmZnJP5qZmZmZmdk/mpmZmZmZyT+amZmZmZnJP5qZmZmZmck/mpmZmZmZyT+amZmZmZnZP5qZmZmZmbk/mpmZmZmZyT+amZmZmZnJP5qZmZmZmck/mpmZmZmZyT+amZmZmZm5P5qZmZmZmck/mpmZmZmZyT8zMzMzMzPTPzMzMzMzM9M/mpmZmZmZyT8zMzMzMzPjP5qZmZmZmdk/MzMzMzMz0z+amZmZmZnJP5qZmZmZmck/mpmZmZmZyT+amZmZmZnJP2ZmZmZmZvY/AAAAAAAA+D8AAAAAAAD4P83MzMzMzPQ/AAAAAAAA+D/NzMzMzMz0P5qZmZmZmfk/AAAAAAAA8D/NzMzMzMz0P2ZmZmZmZvY/AAAAAAAA8D8AAAAAAAD4PwAAAAAAAPA/ZmZmZmZm9j/NzMzMzMz0P2ZmZmZmZvY/AAAAAAAA+D8AAAAAAADwPwAAAAAAAPg/mpmZmZmZ8T/NzMzMzMz8P83MzMzMzPQ/AAAAAAAA+D8zMzMzMzPzP83MzMzMzPQ/ZmZmZmZm9j9mZmZmZmb2PzMzMzMzM/s/AAAAAAAA+D8AAAAAAADwP5qZmZmZmfE/AAAAAAAA8D8zMzMzMzPzP5qZmZmZmfk/AAAAAAAA+D+amZmZmZn5PwAAAAAAAPg/zczMzMzM9D/NzMzMzMz0P83MzMzMzPQ/MzMzMzMz8z9mZmZmZmb2PzMzMzMzM/M/AAAAAAAA8D/NzMzMzMz0PzMzMzMzM/M/zczMzMzM9D/NzMzMzMz0P5qZmZmZmfE/zczMzMzM9D8AAAAAAAAEQGZmZmZmZv4/zczMzMzMAEDNzMzMzMz8P5qZmZmZmQFAzczMzMzMAEAzMzMzMzP7P83MzMzMzPw/zczMzMzM/D8AAAAAAAAEQAAAAAAAAABAZmZmZmZm/j/NzMzMzMwAQAAAAAAAAABAMzMzMzMzA0BmZmZmZmYCQM3MzMzMzPw/mpmZmZmZAUBmZmZmZmYCQAAAAAAAAPg/ZmZmZmZmAkAAAAAAAAAAQAAAAAAAAABAzczMzMzM/D/NzMzMzMwAQM3MzMzMzPw/zczMzMzM/D/NzMzMzMz8P83MzMzMzABAmpmZmZmZ+T9mZmZmZmb+PwAAAAAAAABAmpmZmZmZAUAAAAAAAAD4P2ZmZmZmZvY/ZmZmZmZmAkAzMzMzMzMDQM3MzMzMzPw/zczMzMzM/D/NzMzMzMwAQDMzMzMzMwNAZmZmZmZmAkBmZmZmZmb+P2ZmZmZmZgJAAAAAAAAABEBmZmZmZmYCQGZmZmZmZv4/AAAAAAAAAEBmZmZmZmYCQM3MzMzMzPw/\",\"dtype\":\"float64\",\"order\":\"little\",\"shape\":[150]},\"sepal length in cm\":{\"__ndarray__\":\"ZmZmZmZmFECamZmZmZkTQM3MzMzMzBJAZmZmZmZmEkAAAAAAAAAUQJqZmZmZmRVAZmZmZmZmEkAAAAAAAAAUQJqZmZmZmRFAmpmZmZmZE0CamZmZmZkVQDMzMzMzMxNAMzMzMzMzE0AzMzMzMzMRQDMzMzMzMxdAzczMzMzMFkCamZmZmZkVQGZmZmZmZhRAzczMzMzMFkBmZmZmZmYUQJqZmZmZmRVAZmZmZmZmFEBmZmZmZmYSQGZmZmZmZhRAMzMzMzMzE0AAAAAAAAAUQAAAAAAAABRAzczMzMzMFEDNzMzMzMwUQM3MzMzMzBJAMzMzMzMzE0CamZmZmZkVQM3MzMzMzBRAAAAAAAAAFkCamZmZmZkTQAAAAAAAABRAAAAAAAAAFkCamZmZmZkTQJqZmZmZmRFAZmZmZmZmFEAAAAAAAAAUQAAAAAAAABJAmpmZmZmZEUAAAAAAAAAUQGZmZmZmZhRAMzMzMzMzE0BmZmZmZmYUQGZmZmZmZhJAMzMzMzMzFUAAAAAAAAAUQAAAAAAAABxAmpmZmZmZGUCamZmZmZkbQAAAAAAAABZAAAAAAAAAGkDNzMzMzMwWQDMzMzMzMxlAmpmZmZmZE0BmZmZmZmYaQM3MzMzMzBRAAAAAAAAAFECamZmZmZkXQAAAAAAAABhAZmZmZmZmGEBmZmZmZmYWQM3MzMzMzBpAZmZmZmZmFkAzMzMzMzMXQM3MzMzMzBhAZmZmZmZmFkCamZmZmZkXQGZmZmZmZhhAMzMzMzMzGUBmZmZmZmYYQJqZmZmZmRlAZmZmZmZmGkAzMzMzMzMbQM3MzMzMzBpAAAAAAAAAGEDNzMzMzMwWQAAAAAAAABZAAAAAAAAAFkAzMzMzMzMXQAAAAAAAABhAmpmZmZmZFUAAAAAAAAAYQM3MzMzMzBpAMzMzMzMzGUBmZmZmZmYWQAAAAAAAABZAAAAAAAAAFkBmZmZmZmYYQDMzMzMzMxdAAAAAAAAAFEBmZmZmZmYWQM3MzMzMzBZAzczMzMzMFkDNzMzMzMwYQGZmZmZmZhRAzczMzMzMFkAzMzMzMzMZQDMzMzMzMxdAZmZmZmZmHEAzMzMzMzMZQAAAAAAAABpAZmZmZmZmHkCamZmZmZkTQDMzMzMzMx1AzczMzMzMGkDNzMzMzMwcQAAAAAAAABpAmpmZmZmZGUAzMzMzMzMbQM3MzMzMzBZAMzMzMzMzF0CamZmZmZkZQAAAAAAAABpAzczMzMzMHkDNzMzMzMweQAAAAAAAABhAmpmZmZmZG0BmZmZmZmYWQM3MzMzMzB5AMzMzMzMzGUDNzMzMzMwaQM3MzMzMzBxAzczMzMzMGEBmZmZmZmYYQJqZmZmZmRlAzczMzMzMHECamZmZmZkdQJqZmZmZmR9AmpmZmZmZGUAzMzMzMzMZQGZmZmZmZhhAzczMzMzMHkAzMzMzMzMZQJqZmZmZmRlAAAAAAAAAGECamZmZmZkbQM3MzMzMzBpAmpmZmZmZG0AzMzMzMzMXQDMzMzMzMxtAzczMzMzMGkDNzMzMzMwaQDMzMzMzMxlAAAAAAAAAGkDNzMzMzMwYQJqZmZmZmRdA\",\"dtype\":\"float64\",\"order\":\"little\",\"shape\":[150]},\"sepal width in cm\":{\"__ndarray__\":\"AAAAAAAADEAAAAAAAAAIQJqZmZmZmQlAzczMzMzMCEDNzMzMzMwMQDMzMzMzMw9AMzMzMzMzC0AzMzMzMzMLQDMzMzMzMwdAzczMzMzMCECamZmZmZkNQDMzMzMzMwtAAAAAAAAACEAAAAAAAAAIQAAAAAAAABBAmpmZmZmZEUAzMzMzMzMPQAAAAAAAAAxAZmZmZmZmDkBmZmZmZmYOQDMzMzMzMwtAmpmZmZmZDUDNzMzMzMwMQGZmZmZmZgpAMzMzMzMzC0AAAAAAAAAIQDMzMzMzMwtAAAAAAAAADEAzMzMzMzMLQJqZmZmZmQlAzczMzMzMCEAzMzMzMzMLQGZmZmZmZhBAzczMzMzMEEDNzMzMzMwIQJqZmZmZmQlAAAAAAAAADEDNzMzMzMwMQAAAAAAAAAhAMzMzMzMzC0AAAAAAAAAMQGZmZmZmZgJAmpmZmZmZCUAAAAAAAAAMQGZmZmZmZg5AAAAAAAAACEBmZmZmZmYOQJqZmZmZmQlAmpmZmZmZDUBmZmZmZmYKQJqZmZmZmQlAmpmZmZmZCUDNzMzMzMwIQGZmZmZmZgJAZmZmZmZmBkBmZmZmZmYGQGZmZmZmZgpAMzMzMzMzA0AzMzMzMzMHQJqZmZmZmQVAAAAAAAAAAEAAAAAAAAAIQJqZmZmZmQFAMzMzMzMzB0AzMzMzMzMHQM3MzMzMzAhAAAAAAAAACECamZmZmZkFQJqZmZmZmQFAAAAAAAAABECamZmZmZkJQGZmZmZmZgZAAAAAAAAABEBmZmZmZmYGQDMzMzMzMwdAAAAAAAAACEBmZmZmZmYGQAAAAAAAAAhAMzMzMzMzB0DNzMzMzMwEQDMzMzMzMwNAMzMzMzMzA0CamZmZmZkFQJqZmZmZmQVAAAAAAAAACEAzMzMzMzMLQM3MzMzMzAhAZmZmZmZmAkAAAAAAAAAIQAAAAAAAAARAzczMzMzMBEAAAAAAAAAIQM3MzMzMzARAZmZmZmZmAkCamZmZmZkFQAAAAAAAAAhAMzMzMzMzB0AzMzMzMzMHQAAAAAAAAARAZmZmZmZmBkBmZmZmZmYKQJqZmZmZmQVAAAAAAAAACEAzMzMzMzMHQAAAAAAAAAhAAAAAAAAACEAAAAAAAAAEQDMzMzMzMwdAAAAAAAAABEDNzMzMzMwMQJqZmZmZmQlAmpmZmZmZBUAAAAAAAAAIQAAAAAAAAARAZmZmZmZmBkCamZmZmZkJQAAAAAAAAAhAZmZmZmZmDkDNzMzMzMwEQJqZmZmZmQFAmpmZmZmZCUBmZmZmZmYGQGZmZmZmZgZAmpmZmZmZBUBmZmZmZmYKQJqZmZmZmQlAZmZmZmZmBkAAAAAAAAAIQGZmZmZmZgZAAAAAAAAACEBmZmZmZmYGQGZmZmZmZg5AZmZmZmZmBkBmZmZmZmYGQM3MzMzMzARAAAAAAAAACEAzMzMzMzMLQM3MzMzMzAhAAAAAAAAACEDNzMzMzMwIQM3MzMzMzAhAzczMzMzMCECamZmZmZkFQJqZmZmZmQlAZmZmZmZmCkAAAAAAAAAIQAAAAAAAAARAAAAAAAAACEAzMzMzMzMLQAAAAAAAAAhA\",\"dtype\":\"float64\",\"order\":\"little\",\"shape\":[150]},\"x\":{\"__ndarray__\":\"8xmHQfXYgUG2ZYRBVXaEQR6hhUHIm4NBvImIQU2EiEGDr4VBECyEQYDEhUGuXYlB2MyBQVjmg0GuKYNBT2eCQebghEFX6IZB6IyEQRxTgkEVN4lBfNWDQXdviEERk4pBBn6IQf3sgkHvo4pBH2WHQaLqiEEghoVBIwaEQUGliEEZAoFB2uSBQYvwgkGdboVBp66GQWLmhEHZC4VBozuJQR6PhkHg04JBbq2FQbcwikG/aYFBEVKCQWW0gUG0h4ZBRJ+DQflDh0EPuV6+o1rwvYsA7r4trwpAeo+kvp/kuD+LKA+/PWg8QBni6r0fzQdA77s3QKoDgT8pjBZAxFO/vp4qD0Cjqmc8k5SRPwUCBUA1EHK/BDAVQG1Inr+x2mQ/5Ii8vzVoMb5qlr49A0u9vNu8oL58QVC/6f9vvU0VHED5cCFATcwcQAofDEDr2/K/N/CvPxCPDr+Jday+GugXvzTHyD9fOQlAr53LP74JtL0JiwVAmFk1QNiq4D/XJqw/3c20P9OUiD5jSjFAYYPeP56Nd8BQufG/XPKQwG9tQMAwhXTAvbGrwA080D+1kKDA0CNdwJbIhcDuijPAgRU0wEMcZsBUXgrAR0cHwMw/SsBgn0bANkyawD3KpcAPttG/aJd8wEkn9b/QaabAgOrIv6gyfcDlqJnAwVKyvxrVs7/ZcVfAOeaawOiJosCZpp/AT6FcwDbp7b9k7BPA3gilwGXrbMA43kzAlMewv/C6WsAgtG/AoERMwDHD+79Xw37AVBGCwIpCS8AB2NO/mMg2wOPNV8ACu9C/\",\"dtype\":\"float32\",\"order\":\"little\",\"shape\":[150]},\"y\":{\"__ndarray__\":\"1EnTQJb/AUEDZQ1BwEIJQe4b20B1KLRA6sYIQf5y5UDxlQ9BCDIBQTxCu0BLkvFA+UQGQbt2DkF9fatAgbCyQCyMtUAudNdAjFeyQKTyxEA3qcNA+9fLQNjcBEEjc91AWin1QLq3AUEh999AGOTKQKtxzEBRhwNBGuMCQQIkxEDJFLpA+L6wQPWFAEEYTO9Avoq6QAwv3EB5Vw5BLpDWQEX13UCb7wtBznkNQZrU3EDkmMVARo0FQVmExUDYJgpBq1DAQEQg60DPWxdAlCzlP+1PIUBahjM/n9n1P+8wuT95GbM/ieTWPmRoC0B5Nt4+lDrxPkNamD88aqY/YtKzPwF9Jj85zAlAhNmXP9ltsz88atg/yWtjP1ucfT9grbM/FITvP0utwz+V1+I/y2EDQOG1HEBYkCdArS+ZP4+WYT8paU4/ryUyP+A5iT+/HL0/iBFjP9SZjT8eEBZAjpLUP5lFmT820Ac/fDCSP32apj9LzJY/9cn/Ps3BpD+HkKM/SOGuP6rRvD9SAxc/e+ySPz/nbEDjk2s/av+EQHk2NEADaVNAo+eQQJ4fMT/iSoVAQoE9QFIXiEAYGltAwIE0QLOOYECkMoM/9cJoP8AzZ0A9BD5APy+SQEHpi0BMEOg/HiCGQFEsUD9ygIxAYE/aP1A+g0C/+4JAG2C5P7/thz+DN0RAAxCBQChOhkDnzo5Av3FKQPn49D/NsAVAv9SKQCelb0Ayrz1ATsGBP/I6eUATg4FA+0VzQAovhT/0RIVACyWAQD7XbUDLieU/3O1PQGiTZEDUPH0/\",\"dtype\":\"float32\",\"order\":\"little\",\"shape\":[150]}},\"selected\":{\"id\":\"1052\"},\"selection_policy\":{\"id\":\"1051\"}},\"id\":\"1003\",\"type\":\"ColumnDataSource\"},{\"attributes\":{\"overlay\":{\"id\":\"1027\"}},\"id\":\"1023\",\"type\":\"BoxZoomTool\"},{\"attributes\":{},\"id\":\"1021\",\"type\":\"PanTool\"},{\"attributes\":{\"fill_alpha\":{\"value\":0.1},\"fill_color\":{\"field\":\"color\"},\"hatch_alpha\":{\"value\":0.1},\"hatch_color\":{\"field\":\"color\"},\"line_alpha\":{\"value\":0.1},\"line_color\":{\"field\":\"color\"},\"size\":{\"value\":10},\"x\":{\"field\":\"x\"},\"y\":{\"field\":\"y\"}},\"id\":\"1039\",\"type\":\"Circle\"},{\"attributes\":{\"axis\":{\"id\":\"1017\"},\"coordinates\":null,\"dimension\":1,\"group\":null,\"ticker\":null,\"visible\":false},\"id\":\"1020\",\"type\":\"Grid\"},{\"attributes\":{\"coordinates\":null,\"data_source\":{\"id\":\"1003\"},\"glyph\":{\"id\":\"1038\"},\"group\":null,\"hover_glyph\":null,\"muted_glyph\":{\"id\":\"1040\"},\"nonselection_glyph\":{\"id\":\"1039\"},\"view\":{\"id\":\"1042\"}},\"id\":\"1041\",\"type\":\"GlyphRenderer\"},{\"attributes\":{\"fill_alpha\":{\"field\":\"alpha\"},\"fill_color\":{\"field\":\"color\"},\"hatch_alpha\":{\"field\":\"alpha\"},\"hatch_color\":{\"field\":\"color\"},\"line_alpha\":{\"field\":\"alpha\"},\"line_color\":{\"field\":\"color\"},\"size\":{\"value\":10},\"x\":{\"field\":\"x\"},\"y\":{\"field\":\"y\"}},\"id\":\"1038\",\"type\":\"Circle\"},{\"attributes\":{},\"id\":\"1046\",\"type\":\"BasicTickFormatter\"},{\"attributes\":{},\"id\":\"1022\",\"type\":\"WheelZoomTool\"},{\"attributes\":{\"callback\":null,\"tooltips\":[[\"index\",\"@{index}\"],[\"label\",\"@{label}\"],[\"sepal length in cm\",\"@{sepal length in cm}\"],[\"sepal width in cm\",\"@{sepal width in cm}\"],[\"petal length in cm\",\"@{petal length in cm}\"],[\"petal width in cm\",\"@{petal width in cm}\"],[\"item\",\"@{item}\"]]},\"id\":\"1028\",\"type\":\"HoverTool\"},{\"attributes\":{},\"id\":\"1014\",\"type\":\"BasicTicker\"},{\"attributes\":{},\"id\":\"1011\",\"type\":\"LinearScale\"},{\"attributes\":{\"coordinates\":null,\"formatter\":{\"id\":\"1049\"},\"group\":null,\"major_label_policy\":{\"id\":\"1050\"},\"ticker\":{\"id\":\"1014\"},\"visible\":false},\"id\":\"1013\",\"type\":\"LinearAxis\"},{\"attributes\":{\"coordinates\":null,\"formatter\":{\"id\":\"1046\"},\"group\":null,\"major_label_policy\":{\"id\":\"1047\"},\"ticker\":{\"id\":\"1018\"},\"visible\":false},\"id\":\"1017\",\"type\":\"LinearAxis\"},{\"attributes\":{\"bottom_units\":\"screen\",\"coordinates\":null,\"fill_alpha\":0.5,\"fill_color\":\"lightgrey\",\"group\":null,\"left_units\":\"screen\",\"level\":\"overlay\",\"line_alpha\":1.0,\"line_color\":\"black\",\"line_dash\":[4,4],\"line_width\":2,\"right_units\":\"screen\",\"syncable\":false,\"top_units\":\"screen\"},\"id\":\"1027\",\"type\":\"BoxAnnotation\"},{\"attributes\":{\"fill_alpha\":{\"value\":0.2},\"fill_color\":{\"field\":\"color\"},\"hatch_alpha\":{\"value\":0.2},\"hatch_color\":{\"field\":\"color\"},\"line_alpha\":{\"value\":0.2},\"line_color\":{\"field\":\"color\"},\"size\":{\"value\":10},\"x\":{\"field\":\"x\"},\"y\":{\"field\":\"y\"}},\"id\":\"1040\",\"type\":\"Circle\"},{\"attributes\":{\"coordinates\":null,\"group\":null},\"id\":\"1043\",\"type\":\"Title\"},{\"attributes\":{},\"id\":\"1047\",\"type\":\"AllLabels\"},{\"attributes\":{},\"id\":\"1009\",\"type\":\"LinearScale\"},{\"attributes\":{},\"id\":\"1026\",\"type\":\"HelpTool\"},{\"attributes\":{},\"id\":\"1024\",\"type\":\"SaveTool\"},{\"attributes\":{\"tools\":[{\"id\":\"1021\"},{\"id\":\"1022\"},{\"id\":\"1023\"},{\"id\":\"1024\"},{\"id\":\"1025\"},{\"id\":\"1026\"},{\"id\":\"1028\"}]},\"id\":\"1029\",\"type\":\"Toolbar\"},{\"attributes\":{\"axis\":{\"id\":\"1013\"},\"coordinates\":null,\"group\":null,\"ticker\":null,\"visible\":false},\"id\":\"1016\",\"type\":\"Grid\"},{\"attributes\":{},\"id\":\"1007\",\"type\":\"DataRange1d\"},{\"attributes\":{},\"id\":\"1051\",\"type\":\"UnionRenderers\"},{\"attributes\":{},\"id\":\"1049\",\"type\":\"BasicTickFormatter\"},{\"attributes\":{},\"id\":\"1018\",\"type\":\"BasicTicker\"},{\"attributes\":{},\"id\":\"1052\",\"type\":\"Selection\"},{\"attributes\":{},\"id\":\"1005\",\"type\":\"DataRange1d\"},{\"attributes\":{\"source\":{\"id\":\"1003\"}},\"id\":\"1042\",\"type\":\"CDSView\"},{\"attributes\":{},\"id\":\"1025\",\"type\":\"ResetTool\"}],\"root_ids\":[\"1004\"]},\"title\":\"Bokeh Application\",\"version\":\"2.4.3\"}};\n",
       "  const render_items = [{\"docid\":\"0d082026-3fc7-4b58-bd70-e25a8cd6beff\",\"root_ids\":[\"1004\"],\"roots\":{\"1004\":\"46f488ba-6a79-4f60-850a-f9e852d893e7\"}}];\n",
       "  root.Bokeh.embed.embed_items_notebook(docs_json, render_items);\n",
       "  }\n",
       "  if (root.Bokeh !== undefined) {\n",
       "    embed_document(root);\n",
       "  } else {\n",
       "    let attempts = 0;\n",
       "    const timer = setInterval(function(root) {\n",
       "      if (root.Bokeh !== undefined) {\n",
       "        clearInterval(timer);\n",
       "        embed_document(root);\n",
       "      } else {\n",
       "        attempts++;\n",
       "        if (attempts > 100) {\n",
       "          clearInterval(timer);\n",
       "          console.log(\"Bokeh: ERROR: Unable to run BokehJS code because BokehJS library is missing\");\n",
       "        }\n",
       "      }\n",
       "    }, 10, root)\n",
       "  }\n",
       "})(window);"
      ],
      "application/vnd.bokehjs_exec.v0+json": ""
     },
     "metadata": {
      "application/vnd.bokehjs_exec.v0+json": {
       "id": "1004"
      }
     },
     "output_type": "display_data"
    }
   ],
   "source": [
    "mapper = umap.UMAP().fit(data)\n",
    "\n",
    "annotation_on_plot = pd.DataFrame({'index':np.arange(len(data)),\n",
    "                                   'label':labels,\n",
    "                                   'sepal length in cm':data[:, 0],\n",
    "                                   'sepal width in cm':data[:, 1],\n",
    "                                   'petal length in cm':data[:, 2],\n",
    "                                   'petal width in cm':data[:, 3]\n",
    "                                   })\n",
    "\n",
    "annotation_on_plot['item'] = annotation_on_plot.label.map(\n",
    "    {\n",
    "        0:'Setosa',\n",
    "        1:'Versicolor',\n",
    "        2:'Virginica'\n",
    "    }\n",
    ")\n",
    "\n",
    "umap.plot.output_notebook()\n",
    "p = umap.plot.interactive(mapper, labels=labels, point_size=10, \n",
    "                          hover_data=annotation_on_plot, theme='red')\n",
    "umap.plot.show(p)"
   ]
  },
  {
   "cell_type": "markdown",
   "id": "6ccdaeeb",
   "metadata": {
    "id": "z_s-459pd6dj"
   },
   "source": [
    "## Использование понижения размерности для ускорения обучения\n",
    "\n",
    "Рассмотрите набор данных TissueMNIST. В этом задании вам нужно сравнить производительность двух моделей: обученной с использованием всех доступных признаков и обученной на данных пониженной размерности. От вас требуется:\n",
    "\n",
    "1. Посторить модель `RandomForestClassifier()` и обучить ее на тренировочной выборке, оценить `accuracy` модели на тестовой выборке и время, потраченное на обучение;\n",
    "2. Построить модель PCA на тернировочных данных и определите число главных компонент, объясняющих 90% дисперсии (или используйте любой другой способ выбора оптимального числа главных компонент, разбиравшийся на лекции);\n",
    "3. Спроецировать данные тестовой выборки на главные компоненты, полученной модели PCA;\n",
    "4. Построить модель `RandomForestClassifier()` и обучить ее на данных пониженной размерности, оценить `accuracy` модели на тестовой выборке и время, потраченное на обучение;\n",
    "5. Опишите ваши наблюдения, сделайте выводы.\n",
    "\n",
    "_Note: Обратите внимание, что параметр `n_components` при создании экземпляра класса `PCA` может принимать не только целочисленные значения (непосредственно количество компонент в \"штуках\"), но и вещественные на интервале $(0, 1)$. Ознакомьтесь с описанием класса [`sklearn.decomposition.PCA`](https://scikit-learn.org/stable/modules/generated/sklearn.decomposition.PCA.html) и определите как можно использовать вещественное `n_components` для решения задачи._"
   ]
  },
  {
   "cell_type": "code",
   "execution_count": 86,
   "id": "363572fc",
   "metadata": {
    "colab": {
     "base_uri": "https://localhost:8080/",
     "height": 260,
     "referenced_widgets": [
      "055585208da746f18069a99812453604",
      "38ef75b4e38c4385afc4a47403f989b3",
      "da822bcd63ef4722a9791e172a9617e1",
      "2730b3a7e8324f2cad629c252f1859cb",
      "035bb0684ab846edaba8afc77c212952",
      "5523b90908244330baf90dfda9008614",
      "e4827bb7f234462899dad0f449282899",
      "3ca979a798974f6d8e2bed39e0713f77",
      "b6050d6a2a2246bbb3ee91ef613f3a3e",
      "8e0694c4de55413fa4318dc4f9a6d34c",
      "682856146d124db1bad9a4789765058f"
     ]
    },
    "id": "4GDU01zhd6dj",
    "outputId": "a1556610-3e6c-44c3-d958-e5939ca76aba"
   },
   "outputs": [
    {
     "name": "stdout",
     "output_type": "stream",
     "text": [
      "Downloading https://zenodo.org/record/6496656/files/tissuemnist.npz?download=1 to /root/.medmnist/tissuemnist.npz\n"
     ]
    },
    {
     "data": {
      "application/vnd.jupyter.widget-view+json": {
       "model_id": "055585208da746f18069a99812453604",
       "version_major": 2,
       "version_minor": 0
      },
      "text/plain": [
       "  0%|          | 0/124962739 [00:00<?, ?it/s]"
      ]
     },
     "metadata": {},
     "output_type": "display_data"
    },
    {
     "name": "stdout",
     "output_type": "stream",
     "text": [
      "Dataset TissueMNIST (tissuemnist)\n",
      "    Number of datapoints: 47280\n",
      "    Root location: /root/.medmnist\n",
      "    Split: test\n",
      "    Task: multi-class\n",
      "    Number of channels: 1\n",
      "    Meaning of labels: {'0': 'Collecting Duct, Connecting Tubule', '1': 'Distal Convoluted Tubule', '2': 'Glomerular endothelial cells', '3': 'Interstitial endothelial cells', '4': 'Leukocytes', '5': 'Podocytes', '6': 'Proximal Tubule Segments', '7': 'Thick Ascending Limb'}\n",
      "    Number of samples: {'train': 165466, 'val': 23640, 'test': 47280}\n",
      "    Description: We use the BBBC051, available from the Broad Bioimage Benchmark Collection. The dataset contains 236,386 human kidney cortex cells, segmented from 3 reference tissue specimens and organized into 8 categories. We split the source dataset with a ratio of 7:1:2 into training, validation and test set. Each gray-scale image is 32×32×7 pixels, where 7 denotes 7 slices. We take maximum values across the slices and resize them into 28×28 gray-scale images.\n",
      "    License: CC BY 4.0\n"
     ]
    }
   ],
   "source": [
    "from tqdm.notebook import tqdm\n",
    "data_flag = 'tissuemnist'\n",
    "download = True\n",
    "\n",
    "info = INFO[data_flag]\n",
    "task = info['task']\n",
    "n_channels = info['n_channels']\n",
    "n_classes = len(info['label'])\n",
    "\n",
    "DataClass = getattr(dataset_without_pytorch, info['python_class'])\n",
    "\n",
    "# load the data\n",
    "tissuemnist = DataClass(split='test', download=download)\n",
    "print(tissuemnist)"
   ]
  },
  {
   "cell_type": "code",
   "execution_count": 87,
   "id": "204ff1a5",
   "metadata": {
    "id": "Z3rn9njPd6dk"
   },
   "outputs": [],
   "source": [
    "x = tissuemnist.imgs / 255. # normalization data\n",
    "x = x.reshape(-1, 784)\n",
    "y = tissuemnist.labels\n",
    " \n",
    "tissuemnist.montage(length=5)\n",
    "\n",
    "x_train, x_test, y_train,y_test = train_test_split(x, y, test_size=0.2)"
   ]
  },
  {
   "cell_type": "code",
   "execution_count": 88,
   "id": "afa0fde4",
   "metadata": {
    "colab": {
     "base_uri": "https://localhost:8080/"
    },
    "id": "2wKZXE3xd6dk",
    "outputId": "c1f6580c-a878-49d0-ae7f-7dbc73202c02"
   },
   "outputs": [
    {
     "name": "stdout",
     "output_type": "stream",
     "text": [
      "acc of default rf 0.5221023688663282\n",
      "CPU times: user 3min 14s, sys: 782 ms, total: 3min 14s\n",
      "Wall time: 3min 14s\n"
     ]
    }
   ],
   "source": [
    "%%time\n",
    "from sklearn.metrics import accuracy_score\n",
    "rng = np.random.RandomState(42)\n",
    "rf = RandomForestClassifier(n_estimators=200, random_state=rng)\n",
    "rf.fit(x_train,y_train)\n",
    "predict = rf.predict(x_test)\n",
    "acc = accuracy_score(y_test,predict)\n",
    "print('acc of default rf', acc)"
   ]
  },
  {
   "cell_type": "code",
   "execution_count": 95,
   "id": "2d33be1f",
   "metadata": {
    "colab": {
     "base_uri": "https://localhost:8080/"
    },
    "id": "zuBgDe0Dd6dk",
    "outputId": "516ba97e-f4e1-432d-f476-c91d898d886a"
   },
   "outputs": [
    {
     "name": "stdout",
     "output_type": "stream",
     "text": [
      "optimal number of dim to save more than 90% of dispersion 58\n",
      "CPU times: user 15.1 s, sys: 2.42 s, total: 17.5 s\n",
      "Wall time: 15.3 s\n"
     ]
    }
   ],
   "source": [
    "%%time\n",
    "pca_0_9 = PCA(n_components = 0.9) \n",
    "#projecting data to reduced dimension\n",
    "pca_0_9.fit(x_train)\n",
    "X_PCA_train = pca_0_9.transform((x_train))\n",
    "X_PCA_test = pca_0_9.transform((x_test))\n",
    "n_compp_0_9 = len(X_PCA_train.T)\n",
    "print('optimal number of dim to save more than 90% of dispersion',n_compp_0_9)"
   ]
  },
  {
   "cell_type": "code",
   "execution_count": 98,
   "id": "de196642",
   "metadata": {
    "colab": {
     "base_uri": "https://localhost:8080/"
    },
    "id": "3bQ_MYlOd6dk",
    "outputId": "bd747f78-59ae-46ab-b9fd-90fca6ad28b4"
   },
   "outputs": [
    {
     "name": "stdout",
     "output_type": "stream",
     "text": [
      "acc of default rf 0.503489847715736\n",
      "CPU times: user 1min 27s, sys: 543 ms, total: 1min 27s\n",
      "Wall time: 1min 27s\n"
     ]
    }
   ],
   "source": [
    "%%time\n",
    "rf_PCA = RandomForestClassifier(n_estimators=200, random_state=rng)\n",
    "rf_PCA.fit(X_PCA_train,y_train)\n",
    "predict = rf_PCA.predict(X_PCA_test)\n",
    "acc_PCA = accuracy_score(y_test,predict)\n",
    "print('acc of default rf', acc_PCA)"
   ]
  },
  {
   "cell_type": "markdown",
   "id": "dcb54da2",
   "metadata": {
    "id": "Ocw0ltuQd6dk"
   },
   "source": [
    "_Вывод:_\n",
    "\n",
    "кол-во компонент,необходимых для сохраения 90% дисперсии данных оказался равен 58, что более, чем в 13 раз меньше, чем исходная размерность (784).\n",
    "При этом время обучения rf на данных пониженной размерности стало вдвое меньше (3 мин 14 с vs 1 мин 27 с), а качество предсказания accuracy уменьшилось менее, чем на 0.02 (0.5034 vs 0.522), что довольно незначительно, учитывая прирост по времени более, чем в 2 раза. \n"
   ]
  }
 ],
 "metadata": {
  "kernelspec": {
   "display_name": "Python 3 (ipykernel)",
   "language": "python",
   "name": "python3"
  },
  "language_info": {
   "codemirror_mode": {
    "name": "ipython",
    "version": 3
   },
   "file_extension": ".py",
   "mimetype": "text/x-python",
   "name": "python",
   "nbconvert_exporter": "python",
   "pygments_lexer": "ipython3",
   "version": "3.10.9"
  }
 },
 "nbformat": 4,
 "nbformat_minor": 5
}
